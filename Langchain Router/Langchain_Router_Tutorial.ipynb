{
  "cells": [
    {
      "cell_type": "markdown",
      "id": "c0af49ba-c972-4a94-9552-36683ec9e0f6",
      "metadata": {
        "id": "c0af49ba-c972-4a94-9552-36683ec9e0f6"
      },
      "source": [
        "# Langchain Router Tutorial\n",
        "\n",
        "The LangChain framework offers a versatile component called the Router Chain, which enables dynamic selection of a pre-defined chain from a set of chains based on the given input.\n",
        "\n",
        "In this tutorial we are going to explore how you can use Router Chains.\n",
        "\n",
        "\n",
        "\n",
        "![langchain-router](https://github.com/langchain-ai/langchain/assets/30792411/5dd4d082-3431-43ce-883f-e2fec06d433f)\n"
      ]
    },
    {
      "cell_type": "markdown",
      "id": "1399a599-2849-40d9-8317-1dbb246154b9",
      "metadata": {
        "id": "1399a599-2849-40d9-8317-1dbb246154b9"
      },
      "source": [
        "**The following actions are executed here**:\n",
        "\n",
        "The user produces a text based input.\n",
        "\n",
        "The router selects the most appropriate chain from five options:\n",
        "- Python programmer\n",
        "- Poet\n",
        "- Wikipedia Expert\n",
        "- Graphical artist\n",
        "- Legal Expert\n",
        "\n",
        "The large language model responds."
      ]
    },
    {
      "cell_type": "code",
      "execution_count": 1,
      "id": "d02be4d0-26b2-4d59-9786-488b00a53fc0",
      "metadata": {
        "collapsed": true,
        "jupyter": {
          "outputs_hidden": true
        },
        "tags": [],
        "colab": {
          "base_uri": "https://localhost:8080/"
        },
        "id": "d02be4d0-26b2-4d59-9786-488b00a53fc0",
        "outputId": "754f81a3-e8a7-4477-c94e-c1d57944b030"
      },
      "outputs": [
        {
          "output_type": "stream",
          "name": "stdout",
          "text": [
            "\u001b[2K     \u001b[90m━━━━━━━━━━━━━━━━━━━━━━━━━━━━━━━━━━━━━━━━\u001b[0m \u001b[32m807.5/807.5 kB\u001b[0m \u001b[31m9.5 MB/s\u001b[0m eta \u001b[36m0:00:00\u001b[0m\n",
            "\u001b[2K     \u001b[90m━━━━━━━━━━━━━━━━━━━━━━━━━━━━━━━━━━━━━━━━\u001b[0m \u001b[32m227.4/227.4 kB\u001b[0m \u001b[31m22.6 MB/s\u001b[0m eta \u001b[36m0:00:00\u001b[0m\n",
            "\u001b[2K     \u001b[90m━━━━━━━━━━━━━━━━━━━━━━━━━━━━━━━━━━━━━━━━\u001b[0m \u001b[32m1.8/1.8 MB\u001b[0m \u001b[31m43.5 MB/s\u001b[0m eta \u001b[36m0:00:00\u001b[0m\n",
            "\u001b[2K     \u001b[90m━━━━━━━━━━━━━━━━━━━━━━━━━━━━━━━━━━━━━━━━\u001b[0m \u001b[32m256.9/256.9 kB\u001b[0m \u001b[31m27.6 MB/s\u001b[0m eta \u001b[36m0:00:00\u001b[0m\n",
            "\u001b[2K     \u001b[90m━━━━━━━━━━━━━━━━━━━━━━━━━━━━━━━━━━━━━━━━\u001b[0m \u001b[32m66.6/66.6 kB\u001b[0m \u001b[31m8.1 MB/s\u001b[0m eta \u001b[36m0:00:00\u001b[0m\n",
            "\u001b[2K     \u001b[90m━━━━━━━━━━━━━━━━━━━━━━━━━━━━━━━━━━━━━━━━\u001b[0m \u001b[32m75.6/75.6 kB\u001b[0m \u001b[31m8.7 MB/s\u001b[0m eta \u001b[36m0:00:00\u001b[0m\n",
            "\u001b[2K     \u001b[90m━━━━━━━━━━━━━━━━━━━━━━━━━━━━━━━━━━━━━━━━\u001b[0m \u001b[32m49.4/49.4 kB\u001b[0m \u001b[31m6.1 MB/s\u001b[0m eta \u001b[36m0:00:00\u001b[0m\n",
            "\u001b[2K     \u001b[90m━━━━━━━━━━━━━━━━━━━━━━━━━━━━━━━━━━━━━━━━\u001b[0m \u001b[32m77.8/77.8 kB\u001b[0m \u001b[31m9.0 MB/s\u001b[0m eta \u001b[36m0:00:00\u001b[0m\n",
            "\u001b[2K     \u001b[90m━━━━━━━━━━━━━━━━━━━━━━━━━━━━━━━━━━━━━━━━\u001b[0m \u001b[32m58.3/58.3 kB\u001b[0m \u001b[31m7.3 MB/s\u001b[0m eta \u001b[36m0:00:00\u001b[0m\n",
            "\u001b[2K     \u001b[90m━━━━━━━━━━━━━━━━━━━━━━━━━━━━━━━━━━━━━━━━\u001b[0m \u001b[32m138.5/138.5 kB\u001b[0m \u001b[31m18.3 MB/s\u001b[0m eta \u001b[36m0:00:00\u001b[0m\n",
            "\u001b[?25h"
          ]
        }
      ],
      "source": [
        "!pip install langchain openai --quiet"
      ]
    },
    {
      "cell_type": "markdown",
      "id": "7bb227b9-d343-4d35-aea6-13a0ef3d67ab",
      "metadata": {
        "id": "7bb227b9-d343-4d35-aea6-13a0ef3d67ab"
      },
      "source": [
        "## Importations"
      ]
    },
    {
      "cell_type": "code",
      "source": [
        "!pip install -U langchain-openai"
      ],
      "metadata": {
        "id": "2QssQ2_xFuTe"
      },
      "id": "2QssQ2_xFuTe",
      "execution_count": null,
      "outputs": []
    },
    {
      "cell_type": "code",
      "execution_count": 5,
      "id": "f4f5aac8-bc8c-4a52-95ef-d9138757c413",
      "metadata": {
        "tags": [],
        "id": "f4f5aac8-bc8c-4a52-95ef-d9138757c413"
      },
      "outputs": [],
      "source": [
        "from langchain.chains.router import MultiPromptChain\n",
        "from langchain_openai import ChatOpenAI\n",
        "from langchain_community.chat_models import BedrockChat\n",
        "\n",
        "from langchain.chains import ConversationChain\n",
        "from langchain.chains.llm import LLMChain\n",
        "from langchain.prompts import PromptTemplate\n",
        "\n",
        "from langchain.chains.router.llm_router import LLMRouterChain, RouterOutputParser\n",
        "from langchain.chains.router.multi_prompt_prompt import MULTI_PROMPT_ROUTER_TEMPLATE"
      ]
    },
    {
      "cell_type": "markdown",
      "id": "ad731ea9-4bda-4052-b721-7af7351655b0",
      "metadata": {
        "id": "ad731ea9-4bda-4052-b721-7af7351655b0"
      },
      "source": [
        "## Creating And Mapping Prompts"
      ]
    },
    {
      "cell_type": "code",
      "execution_count": 6,
      "id": "43cb9168-8a03-4e2a-bfc0-f7474add1343",
      "metadata": {
        "tags": [],
        "id": "43cb9168-8a03-4e2a-bfc0-f7474add1343"
      },
      "outputs": [],
      "source": [
        "import os\n",
        "from google.colab import userdata\n",
        "\n",
        "os.environ['OPENAI_API_KEY'] = userdata.get('OPENAI_API_KEY')\n",
        "\n",
        "model = 'gpt-3.5-turbo-0613'\n",
        "llm = ChatOpenAI(model=model, temperature=0)"
      ]
    },
    {
      "cell_type": "code",
      "execution_count": 7,
      "id": "09003b56-886a-4703-9643-c9bd59df015c",
      "metadata": {
        "tags": [],
        "id": "09003b56-886a-4703-9643-c9bd59df015c"
      },
      "outputs": [],
      "source": [
        "developer_template = \"\"\"You are a very smart Python programmer. \\\n",
        "You provide answers for algorithmic and computer problems in Python. \\\n",
        "You explain the code in a detailed manner. \\\n",
        "\n",
        "Here is a question:\n",
        "{input}\\\n",
        "\"\"\"\n",
        "\n",
        "poet_template = \"\"\"You are a poet who replies to creative requests with poems in English. \\\n",
        "You provide answers which are poems in the style of Lord Byron or Shakespeare. \\\n",
        "\n",
        "Here is a question:\n",
        "{input}\\\n",
        "\"\"\"\n",
        "\n",
        "wiki_template = \"\"\"You are a Wikipedia expert. \\\n",
        "You answer common knowledge questions based on Wikipedia knowledge. \\\n",
        "Your explanations are detailed and in plain English.\n",
        "\n",
        "Here is a question:\n",
        "{input}\\\n",
        "\"\"\"\n",
        "\n",
        "image_creator_template = \"\"\"You create a creator of images. \\\n",
        "You provide graphic representations of answers using SVG images.\n",
        "\n",
        "Here is a question:\n",
        "{input}\\\n",
        "\"\"\"\n",
        "\n",
        "legal_expert_template = \"\"\"You are a UK or US legal expert. \\\n",
        "You explain questions related to the UK or US legal systems in an accessible language \\\n",
        "with a good number of examples.\n",
        "\n",
        "Here is a question:\n",
        "{input}\\\n",
        "\"\"\"\n",
        "\n",
        "prompt_infos = [\n",
        "        {\n",
        "            'name': 'python programmer',\n",
        "            'description': 'Good for questions about coding and algorithms',\n",
        "            'prompt_template': developer_template\n",
        "        },\n",
        "        {\n",
        "            'name': 'poet',\n",
        "            'description': 'Good for generating poems for creative questions',\n",
        "            'prompt_template': poet_template\n",
        "        },\n",
        "        {\n",
        "            'name': 'wikipedia expert',\n",
        "            'description': 'Good for answering questions about general knowledge',\n",
        "            'prompt_template': wiki_template\n",
        "        },\n",
        "        {\n",
        "            'name': 'graphical artist',\n",
        "            'description': 'Good for answering questions which require an image output',\n",
        "            'prompt_template': image_creator_template\n",
        "        },\n",
        "        {\n",
        "            'name': 'legal expert',\n",
        "            'description': 'Good for answering questions which are related to UK or US law',\n",
        "            'prompt_template': legal_expert_template\n",
        "        }\n",
        "]"
      ]
    },
    {
      "cell_type": "markdown",
      "id": "0067dbf0-c8b9-48b6-9759-c34185e766a8",
      "metadata": {
        "id": "0067dbf0-c8b9-48b6-9759-c34185e766a8"
      },
      "source": [
        "## Mapping Destination Chains"
      ]
    },
    {
      "cell_type": "code",
      "execution_count": 8,
      "id": "24758644-c072-4076-ac97-3140617e164d",
      "metadata": {
        "tags": [],
        "colab": {
          "base_uri": "https://localhost:8080/"
        },
        "id": "24758644-c072-4076-ac97-3140617e164d",
        "outputId": "cb97c309-16d8-4ea4-af0f-7324d2dc881d"
      },
      "outputs": [
        {
          "output_type": "stream",
          "name": "stdout",
          "text": [
            "python programmer: Good for questions about coding and algorithms\n",
            "poet: Good for generating poems for creative questions\n",
            "wikipedia expert: Good for answering questions about general knowledge\n",
            "graphical artist: Good for answering questions which require an image output\n",
            "legal expert: Good for answering questions which are related to UK or US law\n"
          ]
        }
      ],
      "source": [
        "# map destination chains\n",
        "destination_chains = {}\n",
        "for prompt_info in prompt_infos:\n",
        "    name = prompt_info[\"name\"]\n",
        "    prompt_template = prompt_info[\"prompt_template\"]\n",
        "    prompt = PromptTemplate(template=prompt_template, input_variables=[\"input\"])\n",
        "    chain = LLMChain(llm=llm, prompt=prompt)\n",
        "    destination_chains[name] = chain\n",
        "default_chain = ConversationChain(llm=llm, output_key=\"text\")\n",
        "\n",
        "# Creating LLMRouterChain\n",
        "destinations = [f\"{p['name']}: {p['description']}\" for p in prompt_infos]\n",
        "destinations_str = \"\\n\".join(destinations)\n",
        "print(destinations_str)\n"
      ]
    },
    {
      "cell_type": "markdown",
      "id": "f41a7412-40a9-4b6c-a883-429e248d28e0",
      "metadata": {
        "id": "f41a7412-40a9-4b6c-a883-429e248d28e0"
      },
      "source": [
        "## Creating Router Chain"
      ]
    },
    {
      "cell_type": "code",
      "execution_count": 9,
      "id": "d750e72f-a781-45a9-b21e-5e0c5c758e9e",
      "metadata": {
        "tags": [],
        "id": "d750e72f-a781-45a9-b21e-5e0c5c758e9e"
      },
      "outputs": [],
      "source": [
        "# creating the router prompt\n",
        "router_template = MULTI_PROMPT_ROUTER_TEMPLATE.format(destinations=destinations_str)\n",
        "\n",
        "router_prompt = PromptTemplate(\n",
        "    template=router_template,\n",
        "    input_variables=[\"input\"],\n",
        "    output_parser=RouterOutputParser(),\n",
        ")\n",
        "\n",
        "# creating the router chain\n",
        "router_chain = LLMRouterChain.from_llm(llm, router_prompt)\n",
        "\n",
        "# Multiple Prompt Chain\n",
        "chain = MultiPromptChain(\n",
        "    router_chain=router_chain,\n",
        "    destination_chains=destination_chains,\n",
        "    default_chain=default_chain,\n",
        "    verbose=True,\n",
        ")"
      ]
    },
    {
      "cell_type": "code",
      "execution_count": 10,
      "id": "13be3ed2-b12f-4d37-8e37-24aa57407982",
      "metadata": {
        "jupyter": {
          "source_hidden": true
        },
        "tags": [],
        "colab": {
          "base_uri": "https://localhost:8080/"
        },
        "id": "13be3ed2-b12f-4d37-8e37-24aa57407982",
        "outputId": "169955a3-5f4a-40ff-8cd8-b8e5fbff5174"
      },
      "outputs": [
        {
          "output_type": "stream",
          "name": "stdout",
          "text": [
            "Given a raw text input to a language model select the model prompt best suited for the input. You will be given the names of the available prompts and a description of what the prompt is best suited for. You may also revise the original input if you think that revising it will ultimately lead to a better response from the language model.\n",
            "\n",
            "<< FORMATTING >>\n",
            "Return a markdown code snippet with a JSON object formatted to look like:\n",
            "```json\n",
            "{{{{\n",
            "    \"destination\": string \\ name of the prompt to use or \"DEFAULT\"\n",
            "    \"next_inputs\": string \\ a potentially modified version of the original input\n",
            "}}}}\n",
            "```\n",
            "\n",
            "REMEMBER: \"destination\" MUST be one of the candidate prompt names specified below OR it can be \"DEFAULT\" if the input is not well suited for any of the candidate prompts.\n",
            "REMEMBER: \"next_inputs\" can just be the original input if you don't think any modifications are needed.\n",
            "\n",
            "<< CANDIDATE PROMPTS >>\n",
            "{destinations}\n",
            "\n",
            "<< INPUT >>\n",
            "{{input}}\n",
            "\n",
            "<< OUTPUT (must include ```json at the start of the response) >>\n",
            "<< OUTPUT (must end with ```) >>\n",
            "\n"
          ]
        }
      ],
      "source": [
        "print(MULTI_PROMPT_ROUTER_TEMPLATE)"
      ]
    },
    {
      "cell_type": "markdown",
      "id": "77a6d180-97f1-4e01-951b-35d3c355d75c",
      "metadata": {
        "id": "77a6d180-97f1-4e01-951b-35d3c355d75c"
      },
      "source": [
        "## Test it all out"
      ]
    },
    {
      "cell_type": "code",
      "execution_count": 11,
      "id": "21b52140-e2f1-4f0e-a23b-e2fc9c1787a1",
      "metadata": {
        "tags": [],
        "colab": {
          "base_uri": "https://localhost:8080/"
        },
        "id": "21b52140-e2f1-4f0e-a23b-e2fc9c1787a1",
        "outputId": "99477150-e05b-4643-dc68-f60dfceb2645"
      },
      "outputs": [
        {
          "output_type": "stream",
          "name": "stderr",
          "text": [
            "/usr/local/lib/python3.10/dist-packages/langchain_core/_api/deprecation.py:117: LangChainDeprecationWarning: The function `run` was deprecated in LangChain 0.1.0 and will be removed in 0.2.0. Use invoke instead.\n",
            "  warn_deprecated(\n",
            "/usr/local/lib/python3.10/dist-packages/langchain/chains/llm.py:316: UserWarning: The predict_and_parse method is deprecated, instead pass an output parser directly to LLMChain.\n",
            "  warnings.warn(\n"
          ]
        },
        {
          "output_type": "stream",
          "name": "stdout",
          "text": [
            "\n",
            "\n",
            "\u001b[1m> Entering new MultiPromptChain chain...\u001b[0m\n",
            "python programmer: {'input': 'Write a code snippet with python to build a simple chatbot with Langchain.'}\n",
            "\u001b[1m> Finished chain.\u001b[0m\n",
            "To build a simple chatbot with Langchain, we can use the langchain-python library. Langchain is an open-source library that provides natural language processing capabilities for building chatbots. \n",
            "\n",
            "To get started, you'll need to install the langchain-python library. You can do this by running the following command in your terminal:\n",
            "\n",
            "```\n",
            "pip install langchain-python\n",
            "```\n",
            "\n",
            "Once you have the library installed, you can use the following code snippet to build a simple chatbot:\n",
            "\n",
            "```python\n",
            "from langchain import Langchain\n",
            "\n",
            "# Create a Langchain instance\n",
            "langchain = Langchain()\n",
            "\n",
            "# Define a function to handle user input and generate a response\n",
            "def get_response(user_input):\n",
            "    response = langchain.generate_response(user_input)\n",
            "    return response\n",
            "\n",
            "# Main chat loop\n",
            "while True:\n",
            "    # Get user input\n",
            "    user_input = input(\"User: \")\n",
            "\n",
            "    # Generate response\n",
            "    response = get_response(user_input)\n",
            "\n",
            "    # Print response\n",
            "    print(\"Chatbot: \" + response)\n",
            "```\n",
            "\n",
            "In this code snippet, we first import the Langchain class from the langchain module. We then create an instance of the Langchain class.\n",
            "\n",
            "Next, we define a function called `get_response` that takes user input as a parameter and uses the `generate_response` method of the Langchain instance to generate a response.\n",
            "\n",
            "Finally, we enter a main chat loop where we continuously prompt the user for input, generate a response using the `get_response` function, and print the response.\n",
            "\n",
            "You can customize the behavior of the chatbot by modifying the `get_response` function or by using other methods provided by the Langchain library.\n"
          ]
        }
      ],
      "source": [
        "# python programming question\n",
        "print(chain.run('Write a code snippet with python to build a simple chatbot with Langchain.'))"
      ]
    },
    {
      "cell_type": "code",
      "execution_count": 12,
      "id": "3fd81e9a-23cb-410c-ae53-d025cf3c50d5",
      "metadata": {
        "tags": [],
        "colab": {
          "base_uri": "https://localhost:8080/"
        },
        "id": "3fd81e9a-23cb-410c-ae53-d025cf3c50d5",
        "outputId": "61b3924e-e6f3-4184-dd8c-76d6b8259b1a"
      },
      "outputs": [
        {
          "output_type": "stream",
          "name": "stdout",
          "text": [
            "\n",
            "\n",
            "\u001b[1m> Entering new MultiPromptChain chain...\u001b[0m\n"
          ]
        },
        {
          "output_type": "stream",
          "name": "stderr",
          "text": [
            "/usr/local/lib/python3.10/dist-packages/langchain/chains/llm.py:316: UserWarning: The predict_and_parse method is deprecated, instead pass an output parser directly to LLMChain.\n",
            "  warnings.warn(\n"
          ]
        },
        {
          "output_type": "stream",
          "name": "stdout",
          "text": [
            "poet: {'input': 'Write a poem with the theme of early morning sunshine'}\n",
            "\u001b[1m> Finished chain.\u001b[0m\n",
            "In the realm where darkness fades,\n",
            "And dawn's first light begins to blaze,\n",
            "A golden hue, a gentle kiss,\n",
            "Awakens nature's sweet abyss.\n",
            "\n",
            "The morning sun, with radiant grace,\n",
            "Unveils the world, a sacred space,\n",
            "Its rays caress the dew-kissed ground,\n",
            "As whispers of a new day sound.\n",
            "\n",
            "The sleepy earth, now bathed in light,\n",
            "Shakes off the remnants of the night,\n",
            "The flowers bloom, their petals unfurled,\n",
            "Embracing warmth from the early world.\n",
            "\n",
            "The birds take flight, their songs arise,\n",
            "A symphony that fills the skies,\n",
            "Their melodies, like whispers soft,\n",
            "Float on the breeze, aloft, aloft.\n",
            "\n",
            "The trees, adorned in vibrant green,\n",
            "Stretch their branches, tall and serene,\n",
            "As sunlight dances through the leaves,\n",
            "A tapestry that nature weaves.\n",
            "\n",
            "The morning sun, a beacon bright,\n",
            "Dispels the shadows with its might,\n",
            "It paints the world in hues divine,\n",
            "A masterpiece, a grand design.\n",
            "\n",
            "Oh, early morning sunshine fair,\n",
            "With golden touch and tender air,\n",
            "You bring to life each waking day,\n",
            "And chase the darkness far away.\n",
            "\n",
            "So let us bask in your warm embrace,\n",
            "And greet each morn with joy and grace,\n",
            "For in your light, we find our way,\n",
            "And welcome hope with each new day.\n"
          ]
        }
      ],
      "source": [
        "# Poem question\n",
        "print(chain.run(\"Write a poem with the theme of early morning sunshine\"))"
      ]
    },
    {
      "cell_type": "code",
      "execution_count": 13,
      "id": "dc08973a-ed32-4b0d-984c-45db9eabd0e8",
      "metadata": {
        "tags": [],
        "colab": {
          "base_uri": "https://localhost:8080/"
        },
        "id": "dc08973a-ed32-4b0d-984c-45db9eabd0e8",
        "outputId": "9c2e6138-e604-4264-863f-7ec60017b52a"
      },
      "outputs": [
        {
          "output_type": "stream",
          "name": "stdout",
          "text": [
            "\n",
            "\n",
            "\u001b[1m> Entering new MultiPromptChain chain...\u001b[0m\n"
          ]
        },
        {
          "output_type": "stream",
          "name": "stderr",
          "text": [
            "/usr/local/lib/python3.10/dist-packages/langchain/chains/llm.py:316: UserWarning: The predict_and_parse method is deprecated, instead pass an output parser directly to LLMChain.\n",
            "  warnings.warn(\n"
          ]
        },
        {
          "output_type": "stream",
          "name": "stdout",
          "text": [
            "wikipedia expert: {'input': 'Elon Musk'}\n",
            "\u001b[1m> Finished chain.\u001b[0m\n",
            "Elon Musk is a well-known entrepreneur and business magnate who was born on June 28, 1971, in Pretoria, South Africa. He is the CEO and lead designer of SpaceX, CEO and product architect of Tesla, Inc., CEO of Neuralink, and founder of The Boring Company. Musk is also involved in various other ventures and initiatives, including SolarCity (now part of Tesla), OpenAI, and the Musk Foundation.\n",
            "\n",
            "Musk gained prominence for his role in co-founding PayPal, an online payment company, which was later acquired by eBay. After the sale, he went on to establish SpaceX in 2002 with the goal of reducing space transportation costs and enabling the colonization of Mars. SpaceX has since become a major player in the aerospace industry, successfully launching numerous rockets and becoming the first privately-funded company to send a spacecraft to the International Space Station.\n",
            "\n",
            "In addition to SpaceX, Musk is widely recognized for his involvement in Tesla, Inc., an electric vehicle and clean energy company. Under his leadership, Tesla has revolutionized the automotive industry with its electric cars, pushing for sustainable transportation and renewable energy solutions. Musk has also been instrumental in the development of autonomous driving technology and the deployment of Tesla's Supercharger network.\n",
            "\n",
            "Musk's visionary ideas and ambitious goals have made him a prominent figure in the tech industry and beyond. He has expressed a strong interest in advancing artificial intelligence (AI) and has co-founded OpenAI, a research organization focused on developing safe and beneficial AI. Musk has also launched Neuralink, a neurotechnology company aiming to develop implantable brain-machine interfaces to enhance human capabilities.\n",
            "\n",
            "Beyond his business ventures, Musk has made headlines for his outspoken and sometimes controversial statements on social media. He has amassed a large following on platforms like Twitter, where he often shares updates on his companies and engages with his audience.\n",
            "\n",
            "Overall, Elon Musk is a highly influential figure in the fields of technology, space exploration, and sustainable energy. His work and ideas continue to shape industries and inspire future generations of entrepreneurs and innovators.\n"
          ]
        }
      ],
      "source": [
        "# Wiki\n",
        "print(chain.run(\"Please tell us about Elon Musk.\"))"
      ]
    },
    {
      "cell_type": "code",
      "execution_count": 14,
      "id": "f66be082-4617-479c-ba6e-25f8a4ac4dd7",
      "metadata": {
        "tags": [],
        "colab": {
          "base_uri": "https://localhost:8080/"
        },
        "id": "f66be082-4617-479c-ba6e-25f8a4ac4dd7",
        "outputId": "b1704108-035f-416a-cc65-4a488c1a05cb"
      },
      "outputs": [
        {
          "output_type": "stream",
          "name": "stdout",
          "text": [
            "\n",
            "\n",
            "\u001b[1m> Entering new MultiPromptChain chain...\u001b[0m\n"
          ]
        },
        {
          "output_type": "stream",
          "name": "stderr",
          "text": [
            "/usr/local/lib/python3.10/dist-packages/langchain/chains/llm.py:316: UserWarning: The predict_and_parse method is deprecated, instead pass an output parser directly to LLMChain.\n",
            "  warnings.warn(\n"
          ]
        },
        {
          "output_type": "stream",
          "name": "stdout",
          "text": [
            "graphical artist: {'input': \"Create an artistic rendering in the style of Vincent Van Gogh's famous 'Sunflowers' series.\"}\n",
            "\u001b[1m> Finished chain.\u001b[0m\n",
            "I'm sorry, but as a text-based AI, I am unable to create or provide visual content such as SVG images. However, I can try to describe an artistic rendering in the style of Vincent Van Gogh's 'Sunflowers' series for you:\n",
            "\n",
            "An artistic rendering in the style of Vincent Van Gogh's 'Sunflowers' series would typically feature a vibrant and expressive depiction of sunflowers. Van Gogh's style is characterized by bold brushstrokes, intense colors, and a sense of movement. To create a similar rendering, you could start with a canvas or paper in a square format.\n",
            "\n",
            "Using a combination of yellows, oranges, and browns, apply thick and textured brushstrokes to represent the sunflowers' petals. Van Gogh often used short, swirling strokes to convey the texture and energy of the flowers. The center of each sunflower can be depicted with a darker shade of brown or black, with small dashes or dots to represent the seeds.\n",
            "\n",
            "In the background, you can add a contrasting color, such as a vibrant blue or a deep green, to create a sense of depth and make the sunflowers stand out. Van Gogh often used contrasting colors to enhance the visual impact of his paintings.\n",
            "\n",
            "To further emulate Van Gogh's style, consider adding visible brushstrokes throughout the artwork, allowing the texture and movement of the paint to be visible. This technique adds a sense of dynamism and expression to the piece.\n",
            "\n",
            "Remember, this description is just a general guideline, and Van Gogh's style is highly unique and difficult to replicate precisely. Nonetheless, I hope it helps you create an artistic rendering inspired by his 'Sunflowers' series.\n"
          ]
        }
      ],
      "source": [
        "# Image generating\n",
        "print(chain.run(\"Create an artistic rendering in the style of Vincent Van Gogh's famous 'Sunflowers' series.\"))"
      ]
    },
    {
      "cell_type": "code",
      "execution_count": 15,
      "id": "3cbbd1f1-4f0f-4de7-908e-4a4c832cd71e",
      "metadata": {
        "tags": [],
        "colab": {
          "base_uri": "https://localhost:8080/"
        },
        "id": "3cbbd1f1-4f0f-4de7-908e-4a4c832cd71e",
        "outputId": "cf0ac3ea-c80c-47ae-99b7-23e6a419d6a3"
      },
      "outputs": [
        {
          "output_type": "stream",
          "name": "stdout",
          "text": [
            "\n",
            "\n",
            "\u001b[1m> Entering new MultiPromptChain chain...\u001b[0m\n"
          ]
        },
        {
          "output_type": "stream",
          "name": "stderr",
          "text": [
            "/usr/local/lib/python3.10/dist-packages/langchain/chains/llm.py:316: UserWarning: The predict_and_parse method is deprecated, instead pass an output parser directly to LLMChain.\n",
            "  warnings.warn(\n"
          ]
        },
        {
          "output_type": "stream",
          "name": "stdout",
          "text": [
            "legal expert: {'input': 'What are the main laws regulating digital products like software and apps in the United States?'}\n",
            "\u001b[1m> Finished chain.\u001b[0m\n",
            "In the United States, there are several key laws that regulate digital products such as software and apps. These laws aim to protect consumers, ensure fair competition, and address intellectual property rights. Let's explore some of the main laws:\n",
            "\n",
            "1. Copyright Law: Copyright law protects original works of authorship, including software and apps. It grants exclusive rights to the creators, preventing others from copying, distributing, or modifying their work without permission. Copyright protection is automatic upon creation, but registering with the U.S. Copyright Office strengthens legal rights and provides additional benefits.\n",
            "\n",
            "2. Digital Millennium Copyright Act (DMCA): The DMCA addresses copyright infringement in the digital realm. It criminalizes the circumvention of technological measures used to protect copyrighted works, such as software encryption. It also provides a safe harbor for online service providers, shielding them from liability for user-generated content if they promptly remove infringing material upon notice.\n",
            "\n",
            "3. Computer Fraud and Abuse Act (CFAA): The CFAA is a federal law that criminalizes unauthorized access to computer systems. It prohibits activities like hacking, unauthorized use of computer resources, and obtaining information without authorization. This law helps protect against unauthorized access to software and apps, safeguarding users' data and privacy.\n",
            "\n",
            "4. Federal Trade Commission Act (FTC Act): The FTC Act empowers the Federal Trade Commission (FTC) to regulate unfair and deceptive trade practices. The FTC can take action against software and app developers who engage in deceptive practices, such as making false claims about their products or failing to adequately protect user data.\n",
            "\n",
            "5. Children's Online Privacy Protection Act (COPPA): COPPA protects the online privacy of children under 13 years old. It requires operators of websites and online services, including software and apps, to obtain parental consent before collecting personal information from children. COPPA also imposes certain obligations on app developers to ensure the privacy and safety of young users.\n",
            "\n",
            "6. General Data Protection Regulation (GDPR): Although the GDPR is a European Union regulation, it can impact U.S. companies that process personal data of EU residents. If a software or app collects data from EU users, it must comply with GDPR requirements, such as obtaining consent, providing data subject rights, and implementing appropriate security measures.\n",
            "\n",
            "These are just a few of the main laws governing digital products in the United States. It's important for software and app developers to familiarize themselves with these laws to ensure compliance and protect their users' rights.\n"
          ]
        }
      ],
      "source": [
        "# Legal Regulation\n",
        "print(chain.run(\"What are the main laws regulating digital products like software and apps in the United States?\"))\n"
      ]
    }
  ],
  "metadata": {
    "kernelspec": {
      "display_name": "conda_python3",
      "language": "python",
      "name": "conda_python3"
    },
    "language_info": {
      "codemirror_mode": {
        "name": "ipython",
        "version": 3
      },
      "file_extension": ".py",
      "mimetype": "text/x-python",
      "name": "python",
      "nbconvert_exporter": "python",
      "pygments_lexer": "ipython3",
      "version": "3.10.13"
    },
    "colab": {
      "provenance": []
    }
  },
  "nbformat": 4,
  "nbformat_minor": 5
}