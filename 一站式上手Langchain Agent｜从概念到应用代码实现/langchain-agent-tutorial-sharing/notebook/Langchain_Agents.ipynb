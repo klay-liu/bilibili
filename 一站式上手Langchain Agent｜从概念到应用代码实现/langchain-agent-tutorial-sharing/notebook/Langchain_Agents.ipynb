{
  "cells": [
    {
      "cell_type": "markdown",
      "id": "75a3f231-8e42-4423-a7eb-a33645bdd901",
      "metadata": {
        "id": "75a3f231-8e42-4423-a7eb-a33645bdd901"
      },
      "source": [
        "\n",
        "# Langchain Agents -- Create your Agent in Langchain\n",
        "\n",
        "3 tools used in this demo:\n",
        "1. DuckDuckGo Search Tool\n",
        "2.  Web Fetcher Tool\n",
        "3. Summarizer Tool\n"
      ]
    },
    {
      "cell_type": "code",
      "execution_count": null,
      "id": "0bc6f560-bdee-4144-a5b5-726c93af7ccb",
      "metadata": {
        "collapsed": true,
        "jupyter": {
          "outputs_hidden": true
        },
        "tags": [],
        "colab": {
          "base_uri": "https://localhost:8080/"
        },
        "id": "0bc6f560-bdee-4144-a5b5-726c93af7ccb",
        "outputId": "01cdc3d5-1920-407d-b98d-4aa538d6ecac"
      },
      "outputs": [
        {
          "output_type": "stream",
          "name": "stdout",
          "text": [
            "Collecting langchain\n",
            "  Downloading langchain-0.1.9-py3-none-any.whl (816 kB)\n",
            "\u001b[2K     \u001b[90m━━━━━━━━━━━━━━━━━━━━━━━━━━━━━━━━━━━━━━━━\u001b[0m \u001b[32m817.0/817.0 kB\u001b[0m \u001b[31m8.9 MB/s\u001b[0m eta \u001b[36m0:00:00\u001b[0m\n",
            "\u001b[?25hCollecting openai\n",
            "  Downloading openai-1.13.3-py3-none-any.whl (227 kB)\n",
            "\u001b[2K     \u001b[90m━━━━━━━━━━━━━━━━━━━━━━━━━━━━━━━━━━━━━━━━\u001b[0m \u001b[32m227.4/227.4 kB\u001b[0m \u001b[31m11.4 MB/s\u001b[0m eta \u001b[36m0:00:00\u001b[0m\n",
            "\u001b[?25hCollecting python-dotenv\n",
            "  Downloading python_dotenv-1.0.1-py3-none-any.whl (19 kB)\n",
            "Requirement already satisfied: requests in /usr/local/lib/python3.10/dist-packages (2.31.0)\n",
            "Collecting duckduckgo-search\n",
            "  Downloading duckduckgo_search-4.5.0-py3-none-any.whl (20 kB)\n",
            "Collecting langchainhub\n",
            "  Downloading langchainhub-0.1.14-py3-none-any.whl (3.4 kB)\n",
            "Requirement already satisfied: PyYAML>=5.3 in /usr/local/lib/python3.10/dist-packages (from langchain) (6.0.1)\n",
            "Requirement already satisfied: SQLAlchemy<3,>=1.4 in /usr/local/lib/python3.10/dist-packages (from langchain) (2.0.27)\n",
            "Requirement already satisfied: aiohttp<4.0.0,>=3.8.3 in /usr/local/lib/python3.10/dist-packages (from langchain) (3.9.3)\n",
            "Requirement already satisfied: async-timeout<5.0.0,>=4.0.0 in /usr/local/lib/python3.10/dist-packages (from langchain) (4.0.3)\n",
            "Collecting dataclasses-json<0.7,>=0.5.7 (from langchain)\n",
            "  Downloading dataclasses_json-0.6.4-py3-none-any.whl (28 kB)\n",
            "Collecting jsonpatch<2.0,>=1.33 (from langchain)\n",
            "  Downloading jsonpatch-1.33-py2.py3-none-any.whl (12 kB)\n",
            "Collecting langchain-community<0.1,>=0.0.21 (from langchain)\n",
            "  Downloading langchain_community-0.0.24-py3-none-any.whl (1.7 MB)\n",
            "\u001b[2K     \u001b[90m━━━━━━━━━━━━━━━━━━━━━━━━━━━━━━━━━━━━━━━━\u001b[0m \u001b[32m1.7/1.7 MB\u001b[0m \u001b[31m18.0 MB/s\u001b[0m eta \u001b[36m0:00:00\u001b[0m\n",
            "\u001b[?25hCollecting langchain-core<0.2,>=0.1.26 (from langchain)\n",
            "  Downloading langchain_core-0.1.27-py3-none-any.whl (250 kB)\n",
            "\u001b[2K     \u001b[90m━━━━━━━━━━━━━━━━━━━━━━━━━━━━━━━━━━━━━━━━\u001b[0m \u001b[32m250.8/250.8 kB\u001b[0m \u001b[31m16.4 MB/s\u001b[0m eta \u001b[36m0:00:00\u001b[0m\n",
            "\u001b[?25hCollecting langsmith<0.2.0,>=0.1.0 (from langchain)\n",
            "  Downloading langsmith-0.1.10-py3-none-any.whl (63 kB)\n",
            "\u001b[2K     \u001b[90m━━━━━━━━━━━━━━━━━━━━━━━━━━━━━━━━━━━━━━━━\u001b[0m \u001b[32m63.1/63.1 kB\u001b[0m \u001b[31m8.8 MB/s\u001b[0m eta \u001b[36m0:00:00\u001b[0m\n",
            "\u001b[?25hRequirement already satisfied: numpy<2,>=1 in /usr/local/lib/python3.10/dist-packages (from langchain) (1.25.2)\n",
            "Requirement already satisfied: pydantic<3,>=1 in /usr/local/lib/python3.10/dist-packages (from langchain) (2.6.1)\n",
            "Requirement already satisfied: tenacity<9.0.0,>=8.1.0 in /usr/local/lib/python3.10/dist-packages (from langchain) (8.2.3)\n",
            "Requirement already satisfied: anyio<5,>=3.5.0 in /usr/local/lib/python3.10/dist-packages (from openai) (3.7.1)\n",
            "Requirement already satisfied: distro<2,>=1.7.0 in /usr/lib/python3/dist-packages (from openai) (1.7.0)\n",
            "Collecting httpx<1,>=0.23.0 (from openai)\n",
            "  Downloading httpx-0.27.0-py3-none-any.whl (75 kB)\n",
            "\u001b[2K     \u001b[90m━━━━━━━━━━━━━━━━━━━━━━━━━━━━━━━━━━━━━━━━\u001b[0m \u001b[32m75.6/75.6 kB\u001b[0m \u001b[31m9.8 MB/s\u001b[0m eta \u001b[36m0:00:00\u001b[0m\n",
            "\u001b[?25hRequirement already satisfied: sniffio in /usr/local/lib/python3.10/dist-packages (from openai) (1.3.0)\n",
            "Requirement already satisfied: tqdm>4 in /usr/local/lib/python3.10/dist-packages (from openai) (4.66.2)\n",
            "Requirement already satisfied: typing-extensions<5,>=4.7 in /usr/local/lib/python3.10/dist-packages (from openai) (4.9.0)\n",
            "Requirement already satisfied: charset-normalizer<4,>=2 in /usr/local/lib/python3.10/dist-packages (from requests) (3.3.2)\n",
            "Requirement already satisfied: idna<4,>=2.5 in /usr/local/lib/python3.10/dist-packages (from requests) (3.6)\n",
            "Requirement already satisfied: urllib3<3,>=1.21.1 in /usr/local/lib/python3.10/dist-packages (from requests) (2.0.7)\n",
            "Requirement already satisfied: certifi>=2017.4.17 in /usr/local/lib/python3.10/dist-packages (from requests) (2024.2.2)\n",
            "Requirement already satisfied: click>=8.1.7 in /usr/local/lib/python3.10/dist-packages (from duckduckgo-search) (8.1.7)\n",
            "Collecting curl-cffi>=0.6.1 (from duckduckgo-search)\n",
            "  Downloading curl_cffi-0.6.1-cp38-abi3-manylinux_2_17_x86_64.manylinux2014_x86_64.whl (5.7 MB)\n",
            "\u001b[2K     \u001b[90m━━━━━━━━━━━━━━━━━━━━━━━━━━━━━━━━━━━━━━━━\u001b[0m \u001b[32m5.7/5.7 MB\u001b[0m \u001b[31m33.0 MB/s\u001b[0m eta \u001b[36m0:00:00\u001b[0m\n",
            "\u001b[?25hCollecting lxml>=5.1.0 (from duckduckgo-search)\n",
            "  Downloading lxml-5.1.0-cp310-cp310-manylinux_2_17_x86_64.manylinux2014_x86_64.whl (8.0 MB)\n",
            "\u001b[2K     \u001b[90m━━━━━━━━━━━━━━━━━━━━━━━━━━━━━━━━━━━━━━━━\u001b[0m \u001b[32m8.0/8.0 MB\u001b[0m \u001b[31m57.0 MB/s\u001b[0m eta \u001b[36m0:00:00\u001b[0m\n",
            "\u001b[?25hCollecting types-requests<3.0.0.0,>=2.31.0.2 (from langchainhub)\n",
            "  Downloading types_requests-2.31.0.20240218-py3-none-any.whl (14 kB)\n",
            "Requirement already satisfied: aiosignal>=1.1.2 in /usr/local/lib/python3.10/dist-packages (from aiohttp<4.0.0,>=3.8.3->langchain) (1.3.1)\n",
            "Requirement already satisfied: attrs>=17.3.0 in /usr/local/lib/python3.10/dist-packages (from aiohttp<4.0.0,>=3.8.3->langchain) (23.2.0)\n",
            "Requirement already satisfied: frozenlist>=1.1.1 in /usr/local/lib/python3.10/dist-packages (from aiohttp<4.0.0,>=3.8.3->langchain) (1.4.1)\n",
            "Requirement already satisfied: multidict<7.0,>=4.5 in /usr/local/lib/python3.10/dist-packages (from aiohttp<4.0.0,>=3.8.3->langchain) (6.0.5)\n",
            "Requirement already satisfied: yarl<2.0,>=1.0 in /usr/local/lib/python3.10/dist-packages (from aiohttp<4.0.0,>=3.8.3->langchain) (1.9.4)\n",
            "Requirement already satisfied: exceptiongroup in /usr/local/lib/python3.10/dist-packages (from anyio<5,>=3.5.0->openai) (1.2.0)\n",
            "Requirement already satisfied: cffi>=1.12.0 in /usr/local/lib/python3.10/dist-packages (from curl-cffi>=0.6.1->duckduckgo-search) (1.16.0)\n",
            "Collecting marshmallow<4.0.0,>=3.18.0 (from dataclasses-json<0.7,>=0.5.7->langchain)\n",
            "  Downloading marshmallow-3.21.0-py3-none-any.whl (49 kB)\n",
            "\u001b[2K     \u001b[90m━━━━━━━━━━━━━━━━━━━━━━━━━━━━━━━━━━━━━━━━\u001b[0m \u001b[32m49.4/49.4 kB\u001b[0m \u001b[31m6.2 MB/s\u001b[0m eta \u001b[36m0:00:00\u001b[0m\n",
            "\u001b[?25hCollecting typing-inspect<1,>=0.4.0 (from dataclasses-json<0.7,>=0.5.7->langchain)\n",
            "  Downloading typing_inspect-0.9.0-py3-none-any.whl (8.8 kB)\n",
            "Collecting httpcore==1.* (from httpx<1,>=0.23.0->openai)\n",
            "  Downloading httpcore-1.0.4-py3-none-any.whl (77 kB)\n",
            "\u001b[2K     \u001b[90m━━━━━━━━━━━━━━━━━━━━━━━━━━━━━━━━━━━━━━━━\u001b[0m \u001b[32m77.8/77.8 kB\u001b[0m \u001b[31m8.8 MB/s\u001b[0m eta \u001b[36m0:00:00\u001b[0m\n",
            "\u001b[?25hCollecting h11<0.15,>=0.13 (from httpcore==1.*->httpx<1,>=0.23.0->openai)\n",
            "  Downloading h11-0.14.0-py3-none-any.whl (58 kB)\n",
            "\u001b[2K     \u001b[90m━━━━━━━━━━━━━━━━━━━━━━━━━━━━━━━━━━━━━━━━\u001b[0m \u001b[32m58.3/58.3 kB\u001b[0m \u001b[31m7.2 MB/s\u001b[0m eta \u001b[36m0:00:00\u001b[0m\n",
            "\u001b[?25hCollecting jsonpointer>=1.9 (from jsonpatch<2.0,>=1.33->langchain)\n",
            "  Downloading jsonpointer-2.4-py2.py3-none-any.whl (7.8 kB)\n",
            "Requirement already satisfied: packaging<24.0,>=23.2 in /usr/local/lib/python3.10/dist-packages (from langchain-core<0.2,>=0.1.26->langchain) (23.2)\n",
            "Collecting orjson<4.0.0,>=3.9.14 (from langsmith<0.2.0,>=0.1.0->langchain)\n",
            "  Downloading orjson-3.9.15-cp310-cp310-manylinux_2_17_x86_64.manylinux2014_x86_64.whl (138 kB)\n",
            "\u001b[2K     \u001b[90m━━━━━━━━━━━━━━━━━━━━━━━━━━━━━━━━━━━━━━━━\u001b[0m \u001b[32m138.5/138.5 kB\u001b[0m \u001b[31m19.8 MB/s\u001b[0m eta \u001b[36m0:00:00\u001b[0m\n",
            "\u001b[?25hRequirement already satisfied: annotated-types>=0.4.0 in /usr/local/lib/python3.10/dist-packages (from pydantic<3,>=1->langchain) (0.6.0)\n",
            "Requirement already satisfied: pydantic-core==2.16.2 in /usr/local/lib/python3.10/dist-packages (from pydantic<3,>=1->langchain) (2.16.2)\n",
            "Requirement already satisfied: greenlet!=0.4.17 in /usr/local/lib/python3.10/dist-packages (from SQLAlchemy<3,>=1.4->langchain) (3.0.3)\n",
            "Requirement already satisfied: pycparser in /usr/local/lib/python3.10/dist-packages (from cffi>=1.12.0->curl-cffi>=0.6.1->duckduckgo-search) (2.21)\n",
            "Collecting mypy-extensions>=0.3.0 (from typing-inspect<1,>=0.4.0->dataclasses-json<0.7,>=0.5.7->langchain)\n",
            "  Downloading mypy_extensions-1.0.0-py3-none-any.whl (4.7 kB)\n",
            "Installing collected packages: types-requests, python-dotenv, orjson, mypy-extensions, marshmallow, lxml, jsonpointer, h11, typing-inspect, langchainhub, jsonpatch, httpcore, curl-cffi, langsmith, httpx, duckduckgo-search, dataclasses-json, openai, langchain-core, langchain-community, langchain\n",
            "  Attempting uninstall: lxml\n",
            "    Found existing installation: lxml 4.9.4\n",
            "    Uninstalling lxml-4.9.4:\n",
            "      Successfully uninstalled lxml-4.9.4\n",
            "Successfully installed curl-cffi-0.6.1 dataclasses-json-0.6.4 duckduckgo-search-4.5.0 h11-0.14.0 httpcore-1.0.4 httpx-0.27.0 jsonpatch-1.33 jsonpointer-2.4 langchain-0.1.9 langchain-community-0.0.24 langchain-core-0.1.27 langchainhub-0.1.14 langsmith-0.1.10 lxml-5.1.0 marshmallow-3.21.0 mypy-extensions-1.0.0 openai-1.13.3 orjson-3.9.15 python-dotenv-1.0.1 types-requests-2.31.0.20240218 typing-inspect-0.9.0\n"
          ]
        }
      ],
      "source": [
        "!pip install langchain openai python-dotenv requests duckduckgo-search langchainhub\n"
      ]
    },
    {
      "cell_type": "code",
      "execution_count": null,
      "id": "a25e6863-ce46-4710-9a94-988ed5e3b39f",
      "metadata": {
        "collapsed": true,
        "jupyter": {
          "outputs_hidden": true
        },
        "tags": [],
        "colab": {
          "base_uri": "https://localhost:8080/"
        },
        "id": "a25e6863-ce46-4710-9a94-988ed5e3b39f",
        "outputId": "b4adfd21-c854-4fe3-f3a6-7fcfa433ef22"
      },
      "outputs": [
        {
          "output_type": "stream",
          "name": "stdout",
          "text": [
            "Collecting langchain-openai\n",
            "  Downloading langchain_openai-0.0.8-py3-none-any.whl (32 kB)\n",
            "Requirement already satisfied: langchain-core<0.2.0,>=0.1.27 in /usr/local/lib/python3.10/dist-packages (from langchain-openai) (0.1.27)\n",
            "Requirement already satisfied: openai<2.0.0,>=1.10.0 in /usr/local/lib/python3.10/dist-packages (from langchain-openai) (1.13.3)\n",
            "Collecting tiktoken<1,>=0.5.2 (from langchain-openai)\n",
            "  Downloading tiktoken-0.6.0-cp310-cp310-manylinux_2_17_x86_64.manylinux2014_x86_64.whl (1.8 MB)\n",
            "\u001b[2K     \u001b[90m━━━━━━━━━━━━━━━━━━━━━━━━━━━━━━━━━━━━━━━━\u001b[0m \u001b[32m1.8/1.8 MB\u001b[0m \u001b[31m25.1 MB/s\u001b[0m eta \u001b[36m0:00:00\u001b[0m\n",
            "\u001b[?25hRequirement already satisfied: PyYAML>=5.3 in /usr/local/lib/python3.10/dist-packages (from langchain-core<0.2.0,>=0.1.27->langchain-openai) (6.0.1)\n",
            "Requirement already satisfied: anyio<5,>=3 in /usr/local/lib/python3.10/dist-packages (from langchain-core<0.2.0,>=0.1.27->langchain-openai) (3.7.1)\n",
            "Requirement already satisfied: jsonpatch<2.0,>=1.33 in /usr/local/lib/python3.10/dist-packages (from langchain-core<0.2.0,>=0.1.27->langchain-openai) (1.33)\n",
            "Requirement already satisfied: langsmith<0.2.0,>=0.1.0 in /usr/local/lib/python3.10/dist-packages (from langchain-core<0.2.0,>=0.1.27->langchain-openai) (0.1.10)\n",
            "Requirement already satisfied: packaging<24.0,>=23.2 in /usr/local/lib/python3.10/dist-packages (from langchain-core<0.2.0,>=0.1.27->langchain-openai) (23.2)\n",
            "Requirement already satisfied: pydantic<3,>=1 in /usr/local/lib/python3.10/dist-packages (from langchain-core<0.2.0,>=0.1.27->langchain-openai) (2.6.1)\n",
            "Requirement already satisfied: requests<3,>=2 in /usr/local/lib/python3.10/dist-packages (from langchain-core<0.2.0,>=0.1.27->langchain-openai) (2.31.0)\n",
            "Requirement already satisfied: tenacity<9.0.0,>=8.1.0 in /usr/local/lib/python3.10/dist-packages (from langchain-core<0.2.0,>=0.1.27->langchain-openai) (8.2.3)\n",
            "Requirement already satisfied: distro<2,>=1.7.0 in /usr/lib/python3/dist-packages (from openai<2.0.0,>=1.10.0->langchain-openai) (1.7.0)\n",
            "Requirement already satisfied: httpx<1,>=0.23.0 in /usr/local/lib/python3.10/dist-packages (from openai<2.0.0,>=1.10.0->langchain-openai) (0.27.0)\n",
            "Requirement already satisfied: sniffio in /usr/local/lib/python3.10/dist-packages (from openai<2.0.0,>=1.10.0->langchain-openai) (1.3.0)\n",
            "Requirement already satisfied: tqdm>4 in /usr/local/lib/python3.10/dist-packages (from openai<2.0.0,>=1.10.0->langchain-openai) (4.66.2)\n",
            "Requirement already satisfied: typing-extensions<5,>=4.7 in /usr/local/lib/python3.10/dist-packages (from openai<2.0.0,>=1.10.0->langchain-openai) (4.9.0)\n",
            "Requirement already satisfied: regex>=2022.1.18 in /usr/local/lib/python3.10/dist-packages (from tiktoken<1,>=0.5.2->langchain-openai) (2023.12.25)\n",
            "Requirement already satisfied: idna>=2.8 in /usr/local/lib/python3.10/dist-packages (from anyio<5,>=3->langchain-core<0.2.0,>=0.1.27->langchain-openai) (3.6)\n",
            "Requirement already satisfied: exceptiongroup in /usr/local/lib/python3.10/dist-packages (from anyio<5,>=3->langchain-core<0.2.0,>=0.1.27->langchain-openai) (1.2.0)\n",
            "Requirement already satisfied: certifi in /usr/local/lib/python3.10/dist-packages (from httpx<1,>=0.23.0->openai<2.0.0,>=1.10.0->langchain-openai) (2024.2.2)\n",
            "Requirement already satisfied: httpcore==1.* in /usr/local/lib/python3.10/dist-packages (from httpx<1,>=0.23.0->openai<2.0.0,>=1.10.0->langchain-openai) (1.0.4)\n",
            "Requirement already satisfied: h11<0.15,>=0.13 in /usr/local/lib/python3.10/dist-packages (from httpcore==1.*->httpx<1,>=0.23.0->openai<2.0.0,>=1.10.0->langchain-openai) (0.14.0)\n",
            "Requirement already satisfied: jsonpointer>=1.9 in /usr/local/lib/python3.10/dist-packages (from jsonpatch<2.0,>=1.33->langchain-core<0.2.0,>=0.1.27->langchain-openai) (2.4)\n",
            "Requirement already satisfied: orjson<4.0.0,>=3.9.14 in /usr/local/lib/python3.10/dist-packages (from langsmith<0.2.0,>=0.1.0->langchain-core<0.2.0,>=0.1.27->langchain-openai) (3.9.15)\n",
            "Requirement already satisfied: annotated-types>=0.4.0 in /usr/local/lib/python3.10/dist-packages (from pydantic<3,>=1->langchain-core<0.2.0,>=0.1.27->langchain-openai) (0.6.0)\n",
            "Requirement already satisfied: pydantic-core==2.16.2 in /usr/local/lib/python3.10/dist-packages (from pydantic<3,>=1->langchain-core<0.2.0,>=0.1.27->langchain-openai) (2.16.2)\n",
            "Requirement already satisfied: charset-normalizer<4,>=2 in /usr/local/lib/python3.10/dist-packages (from requests<3,>=2->langchain-core<0.2.0,>=0.1.27->langchain-openai) (3.3.2)\n",
            "Requirement already satisfied: urllib3<3,>=1.21.1 in /usr/local/lib/python3.10/dist-packages (from requests<3,>=2->langchain-core<0.2.0,>=0.1.27->langchain-openai) (2.0.7)\n",
            "Installing collected packages: tiktoken, langchain-openai\n",
            "Successfully installed langchain-openai-0.0.8 tiktoken-0.6.0\n"
          ]
        }
      ],
      "source": [
        "!pip install -U langchain-openai"
      ]
    },
    {
      "cell_type": "markdown",
      "id": "1863819a-76a3-4599-8554-c6c93f7a162a",
      "metadata": {
        "id": "1863819a-76a3-4599-8554-c6c93f7a162a"
      },
      "source": [
        "### 1. Importing Necessary Libraries\n"
      ]
    },
    {
      "cell_type": "code",
      "execution_count": null,
      "id": "1c15f59e-615b-4e5e-8a69-8ac502dfe5ba",
      "metadata": {
        "tags": [],
        "id": "1c15f59e-615b-4e5e-8a69-8ac502dfe5ba"
      },
      "outputs": [],
      "source": [
        "import requests\n",
        "from bs4 import BeautifulSoup\n",
        "from dotenv import load_dotenv\n",
        "from langchain.tools import Tool, DuckDuckGoSearchResults\n",
        "from langchain.prompts import PromptTemplate\n",
        "from langchain_openai import ChatOpenAI\n",
        "from langchain.chains import LLMChain\n",
        "from langchain.agents import AgentType\n",
        "from langchain import hub\n",
        "from langchain.agents import AgentExecutor, create_xml_agent"
      ]
    },
    {
      "cell_type": "markdown",
      "id": "ec5b77fc-c692-42c7-a4b9-58262771bed9",
      "metadata": {
        "id": "ec5b77fc-c692-42c7-a4b9-58262771bed9"
      },
      "source": [
        "### 2. Load API Key"
      ]
    },
    {
      "cell_type": "code",
      "execution_count": null,
      "id": "0a2c3b9d-dbb8-4ffb-befd-c5affd3dba28",
      "metadata": {
        "tags": [],
        "id": "0a2c3b9d-dbb8-4ffb-befd-c5affd3dba28"
      },
      "outputs": [],
      "source": [
        "import os\n",
        "from google.colab import userdata\n",
        "from getpass import getpass\n",
        "\n",
        "os.environ['OPENAI_API_KEY'] = userdata.get('OPENAI_API_KEY')\n"
      ]
    },
    {
      "cell_type": "markdown",
      "id": "bd993512-57ca-40c6-aa05-908577bd36b4",
      "metadata": {
        "id": "bd993512-57ca-40c6-aa05-908577bd36b4"
      },
      "source": [
        "### 3. Setting Up the DuckDuckGo Search Tool"
      ]
    },
    {
      "cell_type": "code",
      "execution_count": null,
      "id": "8da6bab6-ce0a-481a-af0e-8fe0f0f79c80",
      "metadata": {
        "tags": [],
        "id": "8da6bab6-ce0a-481a-af0e-8fe0f0f79c80"
      },
      "outputs": [],
      "source": [
        "ddg_search = DuckDuckGoSearchResults()"
      ]
    },
    {
      "cell_type": "markdown",
      "id": "4d342274-e7c7-4d98-8a91-1674647c27d7",
      "metadata": {
        "id": "4d342274-e7c7-4d98-8a91-1674647c27d7"
      },
      "source": [
        "### 4. Parsing HTML Content"
      ]
    },
    {
      "cell_type": "code",
      "execution_count": null,
      "id": "44c2165d-8cf7-4ec0-a342-cfab3261a208",
      "metadata": {
        "tags": [],
        "id": "44c2165d-8cf7-4ec0-a342-cfab3261a208"
      },
      "outputs": [],
      "source": [
        "def parse_html(content) -> str:\n",
        "    soup = BeautifulSoup(content, 'html.parser')\n",
        "    text_content_with_links = soup.get_text()\n",
        "    return text_content_with_links"
      ]
    },
    {
      "cell_type": "markdown",
      "id": "85154b38-063f-42b9-b8c5-5c95dd40c7e3",
      "metadata": {
        "id": "85154b38-063f-42b9-b8c5-5c95dd40c7e3"
      },
      "source": [
        "### 5. Fetching Web Page Content"
      ]
    },
    {
      "cell_type": "code",
      "execution_count": null,
      "id": "1618c4a8-1afe-4c8b-aad8-5410d1717ae9",
      "metadata": {
        "tags": [],
        "id": "1618c4a8-1afe-4c8b-aad8-5410d1717ae9"
      },
      "outputs": [],
      "source": [
        "def fetch_web_page(url: str) -> str:\n",
        "  HEADERS = {\n",
        "    'User-Agent': 'Mozilla/5.0 (Macintosh; Intel Mac OS X 10.15; rv:90.0) Gecko/20100101 Firefox/90.0'\n",
        "}\n",
        "  response = requests.get(url, headers=HEADERS)\n",
        "  return parse_html(response.content)"
      ]
    },
    {
      "cell_type": "markdown",
      "id": "7d31569b-cfdf-4a0e-bf21-10646ec01c8b",
      "metadata": {
        "id": "7d31569b-cfdf-4a0e-bf21-10646ec01c8b"
      },
      "source": [
        "### 6. Creating the Web Fetcher Tool\n"
      ]
    },
    {
      "cell_type": "code",
      "execution_count": null,
      "id": "5eb3fa8c-a396-4662-8019-663a6c230b8c",
      "metadata": {
        "tags": [],
        "id": "5eb3fa8c-a396-4662-8019-663a6c230b8c"
      },
      "outputs": [],
      "source": [
        "web_fetch_tool = Tool.from_function(\n",
        "    func=fetch_web_page,\n",
        "    name=\"WebFetcher\",\n",
        "    description=\"Fetches the content of a web page\"\n",
        ")"
      ]
    },
    {
      "cell_type": "markdown",
      "id": "ab159b68-9e11-42f5-ac81-35bbab59889b",
      "metadata": {
        "id": "ab159b68-9e11-42f5-ac81-35bbab59889b"
      },
      "source": [
        "### 7. Setting Up the Summarizer"
      ]
    },
    {
      "cell_type": "code",
      "execution_count": null,
      "id": "4b8da5e8-12ee-42ca-8edf-38a382736447",
      "metadata": {
        "tags": [],
        "id": "4b8da5e8-12ee-42ca-8edf-38a382736447"
      },
      "outputs": [],
      "source": [
        "prompt_template = \"Summarize the following content: {content}\"\n",
        "llm = ChatOpenAI(model=\"gpt-3.5-turbo-16k\")\n",
        "llm_chain = LLMChain(\n",
        "    llm=llm,\n",
        "    prompt=PromptTemplate.from_template(prompt_template)\n",
        ")\n",
        "\n",
        "summarize_tool = Tool.from_function(\n",
        "    func=llm_chain.run,\n",
        "    name=\"Summarizer\",\n",
        "    description=\"Summarizes a web page\"\n",
        ")"
      ]
    },
    {
      "cell_type": "markdown",
      "id": "c0aa0889-638e-49f9-b5c5-129453b6cdba",
      "metadata": {
        "tags": [],
        "id": "c0aa0889-638e-49f9-b5c5-129453b6cdba"
      },
      "source": [
        "### 9. Initializing the Agent"
      ]
    },
    {
      "cell_type": "code",
      "execution_count": null,
      "id": "d85e206a-5f51-4292-b7f9-4c1c6336f455",
      "metadata": {
        "tags": [],
        "id": "d85e206a-5f51-4292-b7f9-4c1c6336f455"
      },
      "outputs": [],
      "source": [
        "from langchain.agents import create_openai_tools_agent\n",
        "\n",
        "tools = [ddg_search, web_fetch_tool, summarize_tool]\n",
        "prompt = hub.pull(\"hwchase17/openai-tools-agent\")\n",
        "\n",
        "# Construct the XML agent\n",
        "# agent = create_xml_agent(llm, tools, prompt)\n",
        "\n",
        "# Openai Tools Agent\n",
        "agent = create_openai_tools_agent(llm, tools, prompt)"
      ]
    },
    {
      "cell_type": "markdown",
      "id": "43e38475-3596-4e93-b2ce-b1934dd17fac",
      "metadata": {
        "tags": [],
        "id": "43e38475-3596-4e93-b2ce-b1934dd17fac"
      },
      "source": [
        "### 10. Running the Agent\n"
      ]
    },
    {
      "cell_type": "code",
      "execution_count": null,
      "id": "f97cb133-4952-4f14-a337-64f46ef4900c",
      "metadata": {
        "tags": [],
        "id": "f97cb133-4952-4f14-a337-64f46ef4900c"
      },
      "outputs": [],
      "source": [
        "# Create an agent executor by passing in the agent and tools\n",
        "agent_executor = AgentExecutor(agent=agent, tools=tools, verbose=True)"
      ]
    },
    {
      "cell_type": "code",
      "execution_count": null,
      "id": "28d43124-e28b-4983-baab-9eb4cc72d818",
      "metadata": {
        "tags": [],
        "colab": {
          "base_uri": "https://localhost:8080/"
        },
        "id": "28d43124-e28b-4983-baab-9eb4cc72d818",
        "outputId": "42636c2b-402a-4576-bfca-8ae1f9fc0861"
      },
      "outputs": [
        {
          "output_type": "stream",
          "name": "stdout",
          "text": [
            "\n",
            "\n",
            "\u001b[1m> Entering new AgentExecutor chain...\u001b[0m\n",
            "\u001b[32;1m\u001b[1;3mIn LangChain, an Agent refers to an entity that interacts with the language models and performs various tasks. It acts as an interface between the user and the language models, handling the input and output of text.\n",
            "\n",
            "A use case for the Agent in LangChain could be a language translation application. The Agent would receive text input in one language from the user and use the language models to translate it into another language. The translated text would then be returned to the user through the Agent. The Agent can handle multiple language pairs and provide accurate and efficient translations using the power of the language models.\u001b[0m\n",
            "\n",
            "\u001b[1m> Finished chain.\u001b[0m\n"
          ]
        },
        {
          "output_type": "execute_result",
          "data": {
            "text/plain": [
              "{'input': 'what is Agent in LangChain? Please give a use case for the explanation',\n",
              " 'output': 'In LangChain, an Agent refers to an entity that interacts with the language models and performs various tasks. It acts as an interface between the user and the language models, handling the input and output of text.\\n\\nA use case for the Agent in LangChain could be a language translation application. The Agent would receive text input in one language from the user and use the language models to translate it into another language. The translated text would then be returned to the user through the Agent. The Agent can handle multiple language pairs and provide accurate and efficient translations using the power of the language models.'}"
            ]
          },
          "metadata": {},
          "execution_count": 14
        }
      ],
      "source": [
        "agent_executor.invoke({\"input\": \"what is Agent in LangChain? Please give a use case for the explanation\"})"
      ]
    },
    {
      "cell_type": "markdown",
      "id": "63addf73-6d49-43b3-b64e-e6b4619aab92",
      "metadata": {
        "id": "63addf73-6d49-43b3-b64e-e6b4619aab92"
      },
      "source": [
        "### Test with different Agent Types\n",
        "\n",
        "Note: The self-ask with search agent only needs one tool, see the below code:\n",
        "\n",
        "\n",
        "\n",
        "```\n",
        "ddg_search_ = [DuckDuckGoSearchResults(name=\"Intermediate Answer\")]\n",
        "\n",
        "# ddg_search_ = DuckDuckGoSearchResults()\n",
        "prompt = hub.pull(\"hwchase17/self-ask-with-search\")\n",
        "\n",
        "# Construct the Self Ask With Search Agent\n",
        "agent = create_self_ask_with_search_agent(llm, ddg_search_, prompt)\n",
        "# Create an agent executor by passing in the agent and tools\n",
        "agent_executor = AgentExecutor(agent=agent, tools=ddg_search_, verbose=True, handle_parsing_errors=True)\n",
        "```\n",
        "\n",
        "\n",
        "\n"
      ]
    },
    {
      "cell_type": "code",
      "execution_count": null,
      "id": "91d73c4e-a325-42c6-bd94-6765ac3c4cab",
      "metadata": {
        "tags": [],
        "id": "91d73c4e-a325-42c6-bd94-6765ac3c4cab"
      },
      "outputs": [],
      "source": [
        "\n",
        "from langchain.chains import LLMChain\n",
        "from langchain.agents import Tool\n",
        "#llms\n",
        "openai_llm = ChatOpenAI(model=\"gpt-3.5-turbo-16k\")\n",
        "\n",
        "#tools\n",
        "def create_tools(llm):\n",
        "\n",
        "    ddg_search = DuckDuckGoSearchResults()\n",
        "\n",
        "    web_fetch_tool = Tool.from_function(\n",
        "        func=fetch_web_page,\n",
        "        name=\"WebFetcher\",\n",
        "        description=\"Fetches the content of a web page\"\n",
        "        )\n",
        "\n",
        "    prompt_template = \"Summarize the following content: {content}\"\n",
        "    llm_chain = LLMChain(\n",
        "        llm=llm,\n",
        "        prompt=PromptTemplate.from_template(prompt_template))\n",
        "\n",
        "    summarize_tool = Tool.from_function(\n",
        "        func=llm_chain.run,\n",
        "        name=\"Summarizer\",\n",
        "        description=\"Summarizes a web page\")\n",
        "\n",
        "    tools = [ddg_search, web_fetch_tool, summarize_tool]\n",
        "\n",
        "    return tools\n"
      ]
    },
    {
      "cell_type": "code",
      "execution_count": null,
      "id": "1d850c82-02fe-48ce-843e-12d768398771",
      "metadata": {
        "tags": [],
        "id": "1d850c82-02fe-48ce-843e-12d768398771"
      },
      "outputs": [],
      "source": [
        "from typing import Dict, Sequence\n",
        "from langchain_core.language_models import BaseLanguageModel\n",
        "from langchain_core.tools import BaseTool\n",
        "\n",
        "from langchain.agents import (create_json_agent, \\\n",
        "                              create_json_chat_agent,\n",
        "                              create_react_agent, \\\n",
        "                              create_xml_agent, \\\n",
        "                              create_structured_chat_agent,\n",
        "                              create_openai_tools_agent, \\\n",
        "                              create_openai_functions_agent,\n",
        "                              create_xml_agent,\n",
        "                              create_self_ask_with_search_agent)\n",
        "\n",
        "\n",
        "import requests\n",
        "from bs4 import BeautifulSoup\n",
        "from langchain.tools import Tool, DuckDuckGoSearchResults\n",
        "from langchain.prompts import PromptTemplate\n",
        "from langchain_openai import ChatOpenAI\n",
        "from langchain.chains import LLMChain\n",
        "from langchain.agents import AgentType, AgentExecutor\n",
        "\n",
        "def create_agent(\n",
        "    agent_type: str,\n",
        "    llm: BaseLanguageModel,\n",
        "    tools: Sequence[BaseTool],\n",
        "    prompt: PromptTemplate = None\n",
        ") -> AgentExecutor:\n",
        "    \"\"\"Create a LangChain agent executor.\n",
        "\n",
        "    Args:\n",
        "        agent_type: The type of agent to create. Options are:\n",
        "            - \"openai_funcs\": OpenAI Functions agent\n",
        "            - \"openai_tools\": OpenAI Tools agent\n",
        "            - \"xml\": XML agent\n",
        "            - \"json_chat\": JSON Chat agent\n",
        "            - \"react\": React agent\n",
        "            - \"self_ask_search\": Self Ask agent with search\n",
        "\n",
        "        llm: The language model to use. Defaults to OpenAI.\n",
        "        tools: The tools to equip the agent with.\n",
        "        prompt: A prompt template to initialize the agent with.\n",
        "            If none provided, will pull a template from Hub.\n",
        "\n",
        "    Returns:\n",
        "        An executor for the created agent.\n",
        "    \"\"\"\n",
        "    # Map agent types to creation functions\n",
        "    CREATE_AGENT_FUNCS = {\"openai_funcs\": create_openai_functions_agent,\n",
        "                       \"openai_tools\": create_openai_tools_agent,\n",
        "                       \"xml\": create_xml_agent,\n",
        "                       \"json_chat\":create_json_chat_agent ,\n",
        "                       \"structured\": create_structured_chat_agent,\n",
        "                       \"react\": create_react_agent,\n",
        "                       \"self_ask_search\": create_self_ask_with_search_agent\n",
        "                      }\n",
        "\n",
        "    # Get the agent creation function\n",
        "    create_agent_func = CREATE_AGENT_FUNCS[agent_type]\n",
        "\n",
        "    if not prompt:\n",
        "        if agent_type=='openai_funcs':\n",
        "            prompt = hub.pull(\"hwchase17/openai-functions-agent\")\n",
        "        elif agent_type=='openai_tools':\n",
        "            prompt = hub.pull(\"hwchase17/openai-tools-agent\")\n",
        "        elif agent_type=='xml':\n",
        "            prompt = hub.pull(\"hwchase17/xml-agent-convo\")\n",
        "        elif agent_type=='json_chat':\n",
        "            prompt = hub.pull(\"hwchase17/react-chat-json\")\n",
        "        elif agent_type=='structured':\n",
        "            prompt = hub.pull(\"hwchase17/structured-chat-agent\")\n",
        "        elif agent_type=='react':\n",
        "            prompt = hub.pull(\"hwchase17/react\")\n",
        "        elif agent_type=='self_ask_search':\n",
        "            prompt = hub.pull(\"hwchase17/self-ask-with-search\")\n",
        "    # try:\n",
        "    #     print(prompt.get_prompts()[0].template)\n",
        "    # except:\n",
        "    #     print(prompt.messages)\n",
        "    # finally:\n",
        "    #     pass\n",
        "\n",
        "    # Return an agent executor by passing in the agent and tools\n",
        "    if agent_type=='self_ask_search':\n",
        "      ddg_search_ = [DuckDuckGoSearchResults(name=\"Intermediate Answer\")]\n",
        "\n",
        "      prompt = hub.pull(\"hwchase17/self-ask-with-search\")\n",
        "\n",
        "      # Construct the Self Ask With Search Agent\n",
        "      agent = create_self_ask_with_search_agent(llm, ddg_search_, prompt)\n",
        "      # Create an agent executor by passing in the agent and tools\n",
        "      return AgentExecutor(agent=agent, tools=ddg_search_, verbose=True, handle_parsing_errors=True)\n",
        "\n",
        "    else:\n",
        "      agent = create_agent_func(llm, tools, prompt)\n",
        "      return AgentExecutor(agent=agent, tools=tools, verbose=True, handle_parsing_errors=True)\n"
      ]
    },
    {
      "cell_type": "code",
      "execution_count": null,
      "id": "75f505bc-49f5-4ed9-a060-10cb235aac91",
      "metadata": {
        "tags": [],
        "id": "75f505bc-49f5-4ed9-a060-10cb235aac91"
      },
      "outputs": [],
      "source": [
        "def parse_html(content) -> str:\n",
        "    soup = BeautifulSoup(content, 'html.parser')\n",
        "    text_content_with_links = soup.get_text()\n",
        "    return text_content_with_links\n",
        "\n",
        "def fetch_web_page(url: str) -> str:\n",
        "    HEADERS = {'User-Agent': 'Mozilla/5.0 (Macintosh; Intel Mac OS X 10.15; rv:90.0) Gecko/20100101 Firefox/90.0'}\n",
        "    response = requests.get(url, headers=HEADERS)\n",
        "    return parse_html(response.content)"
      ]
    },
    {
      "cell_type": "code",
      "execution_count": null,
      "id": "66fe8024-9a02-4d1f-851e-86066891dd29",
      "metadata": {
        "tags": [],
        "id": "66fe8024-9a02-4d1f-851e-86066891dd29"
      },
      "outputs": [],
      "source": [
        "agent_type_dict = {\"openai_funcs\": create_openai_functions_agent,\n",
        "                   \"openai_tools\": create_openai_tools_agent,\n",
        "                   \"xml\": create_xml_agent,\n",
        "                   \"json_chat\":create_json_chat_agent ,\n",
        "                   \"structured\": create_structured_chat_agent,\n",
        "                   \"react\": create_react_agent,\n",
        "                   \"self_ask_search\": create_self_ask_with_search_agent\n",
        "                  }"
      ]
    },
    {
      "cell_type": "code",
      "execution_count": null,
      "id": "29a60663-a474-4eb4-b5e7-81248c4e6f35",
      "metadata": {
        "tags": [],
        "id": "29a60663-a474-4eb4-b5e7-81248c4e6f35"
      },
      "outputs": [],
      "source": [
        "llm = openai_llm\n",
        "\n",
        "tools = create_tools(llm)\n",
        "# agent = create_agent('xml', llm, tools)\n"
      ]
    },
    {
      "cell_type": "code",
      "execution_count": null,
      "id": "275c98d6-6935-4854-9d04-be13423b19af",
      "metadata": {
        "tags": [],
        "id": "275c98d6-6935-4854-9d04-be13423b19af",
        "colab": {
          "base_uri": "https://localhost:8080/",
          "height": 1000
        },
        "outputId": "493161a4-f233-4b22-eff0-40dc69b8eaec"
      },
      "outputs": [
        {
          "output_type": "stream",
          "name": "stdout",
          "text": [
            "\n",
            "\n",
            "\u001b[1m> Entering new AgentExecutor chain...\u001b[0m\n",
            "\u001b[32;1m\u001b[1;3m\n",
            "Invoking: `duckduckgo_results_json` with `{'query': 'Tesla cash and cash equivalents 2022'}`\n",
            "\n",
            "\n",
            "\u001b[0m\u001b[36;1m\u001b[1;3m[snippet: 0.56. 0.49. Upgrade. Source: Financials are provided by Nasdaq Data Link and sourced from the audited annual ( 10-K) and quarterly ( 10-Q) reports submitted to the Securities and Exchange Commission (SEC). Detailed balance sheet for Tesla, Inc. (TSLA), including cash, debt, assets, liabilities, and book value., title: Tesla, Inc. (TSLA) Balance Sheet - Stock Analysis, link: https://stockanalysis.com/stocks/tsla/financials/balance-sheet/], [snippet: 2022: Cash Flows from Operating Activities: ... Effect of exchange rate changes on cash and cash equivalents and restricted cash (142) (567) Net (decrease) increase in cash and cash equivalents and restricted cash ... (\"Tesla\", the \"Company\", \"we\", \"us\" or \"our\"), including the consolidated balance sheet as of September 30 ..., title: tsla-20230930 - SEC.gov, link: https://www.sec.gov/Archives/edgar/data/1318605/000162828023034847/tsla-20230930.htm], [snippet: Tesla Cash On Hand - FourWeekMBA. How Much Money Does Tesla Have? Tesla Cash On Hand. In 2023, Tesla had $16.4 billion in cash and equivalents on its balance sheet, compared to $16.25B in 2022, $17.5 billion in 2021, and over $19 billion in 2020., title: How Much Money Does Tesla Have? Tesla Cash On Hand, link: https://fourweekmba.com/tesla-cash-on-hand/], [snippet: 2022 Assets Current assets Cash and cash equivalents $ 15,296 $ 16,253 Short-term investments 7,779 5,932 Accounts receivable, net 3,447 2,952 Inventory 14,356 12,839 Prepaid expenses and other current assets 2,997 2,941 Total current assets 43,875 40,917 Operating lease vehicles, net 5,935 5,035, title: 10-Q - SEC.gov, link: https://www.sec.gov/Archives/edgar/data/1318605/000095017023033872/tsla-20230630.htm]\u001b[0m\u001b[32;1m\u001b[1;3mThe value of cash and cash equivalents for Tesla in 2022 is $16.25 billion.\u001b[0m\n",
            "\n",
            "\u001b[1m> Finished chain.\u001b[0m\n",
            "Agent Type: openai_funcs\n",
            "\n",
            "Question: What is the value of cash and cash equivalents for Tesla in 2022?\n",
            "\n",
            "Answer👇👇👇: \n",
            "{'input': 'What is the value of cash and cash equivalents for Tesla in 2022?', 'output': 'The value of cash and cash equivalents for Tesla in 2022 is $16.25 billion.'}\n",
            "\n",
            "\n",
            "\u001b[1m> Entering new AgentExecutor chain...\u001b[0m\n",
            "\u001b[32;1m\u001b[1;3m\n",
            "Invoking: `duckduckgo_results_json` with `{'query': 'Tesla cash and cash equivalents 2022'}`\n",
            "\n",
            "\n",
            "\u001b[0m\u001b[36;1m\u001b[1;3m[snippet: 0.56. 0.49. Upgrade. Source: Financials are provided by Nasdaq Data Link and sourced from the audited annual ( 10-K) and quarterly ( 10-Q) reports submitted to the Securities and Exchange Commission (SEC). Detailed balance sheet for Tesla, Inc. (TSLA), including cash, debt, assets, liabilities, and book value., title: Tesla, Inc. (TSLA) Balance Sheet - Stock Analysis, link: https://stockanalysis.com/stocks/tsla/financials/balance-sheet/], [snippet: 2022: Cash Flows from Operating Activities: ... Effect of exchange rate changes on cash and cash equivalents and restricted cash (142) (567) Net (decrease) increase in cash and cash equivalents and restricted cash ... (\"Tesla\", the \"Company\", \"we\", \"us\" or \"our\"), including the consolidated balance sheet as of September 30 ..., title: tsla-20230930 - SEC.gov, link: https://www.sec.gov/Archives/edgar/data/1318605/000162828023034847/tsla-20230930.htm], [snippet: Tesla Cash On Hand - FourWeekMBA. How Much Money Does Tesla Have? Tesla Cash On Hand. In 2023, Tesla had $16.4 billion in cash and equivalents on its balance sheet, compared to $16.25B in 2022, $17.5 billion in 2021, and over $19 billion in 2020., title: How Much Money Does Tesla Have? Tesla Cash On Hand, link: https://fourweekmba.com/tesla-cash-on-hand/], [snippet: 2022 Assets Current assets Cash and cash equivalents $ 15,296 $ 16,253 Short-term investments 7,779 5,932 Accounts receivable, net 3,447 2,952 Inventory 14,356 12,839 Prepaid expenses and other current assets 2,997 2,941 Total current assets 43,875 40,917 Operating lease vehicles, net 5,935 5,035, title: 10-Q - SEC.gov, link: https://www.sec.gov/Archives/edgar/data/1318605/000095017023033872/tsla-20230630.htm]\u001b[0m\u001b[32;1m\u001b[1;3mThe value of cash and cash equivalents for Tesla in 2022 was $16.25 billion.\u001b[0m\n",
            "\n",
            "\u001b[1m> Finished chain.\u001b[0m\n",
            "Agent Type: openai_tools\n",
            "\n",
            "Question: What is the value of cash and cash equivalents for Tesla in 2022?\n",
            "\n",
            "Answer👇👇👇: \n",
            "{'input': 'What is the value of cash and cash equivalents for Tesla in 2022?', 'output': 'The value of cash and cash equivalents for Tesla in 2022 was $16.25 billion.'}\n",
            "\n",
            "\n",
            "\u001b[1m> Entering new AgentExecutor chain...\u001b[0m\n",
            "\u001b[32;1m\u001b[1;3m<tool>duckduckgo_results_json</tool><tool_input>Tesla cash and cash equivalents 2022\u001b[0m\u001b[36;1m\u001b[1;3m[snippet: 0.56. 0.49. Upgrade. Source: Financials are provided by Nasdaq Data Link and sourced from the audited annual ( 10-K) and quarterly ( 10-Q) reports submitted to the Securities and Exchange Commission (SEC). Detailed balance sheet for Tesla, Inc. (TSLA), including cash, debt, assets, liabilities, and book value., title: Tesla, Inc. (TSLA) Balance Sheet - Stock Analysis, link: https://stockanalysis.com/stocks/tsla/financials/balance-sheet/], [snippet: 2022: Cash Flows from Operating Activities: ... Effect of exchange rate changes on cash and cash equivalents and restricted cash (142) (567) Net (decrease) increase in cash and cash equivalents and restricted cash ... (\"Tesla\", the \"Company\", \"we\", \"us\" or \"our\"), including the consolidated balance sheet as of September 30 ..., title: tsla-20230930 - SEC.gov, link: https://www.sec.gov/Archives/edgar/data/1318605/000162828023034847/tsla-20230930.htm], [snippet: 2022 Assets Current assets Cash and cash equivalents $ 15,296 $ 16,253 Short-term investments 7,779 5,932 Accounts receivable, net 3,447 2,952 Inventory 14,356 12,839 Prepaid expenses and other current assets 2,997 2,941 Total current assets 43,875 40,917 Operating lease vehicles, net 5,935 5,035, title: 10-Q - SEC.gov, link: https://www.sec.gov/Archives/edgar/data/1318605/000095017023033872/tsla-20230630.htm], [snippet: Tesla Cash On Hand - FourWeekMBA. How Much Money Does Tesla Have? Tesla Cash On Hand. In 2023, Tesla had $16.4 billion in cash and equivalents on its balance sheet, compared to $16.25B in 2022, $17.5 billion in 2021, and over $19 billion in 2020., title: How Much Money Does Tesla Have? Tesla Cash On Hand, link: https://fourweekmba.com/tesla-cash-on-hand/]\u001b[0m\u001b[32;1m\u001b[1;3m<final_answer>The value of cash and cash equivalents for Tesla in 2022 is not specified in the available information. However, it had $16.25 billion in cash and equivalents on its balance sheet in 2022.</final_answer>\u001b[0m\n",
            "\n",
            "\u001b[1m> Finished chain.\u001b[0m\n",
            "Agent Type: xml\n",
            "\n",
            "Question: What is the value of cash and cash equivalents for Tesla in 2022?\n",
            "\n",
            "Answer👇👇👇: \n",
            "{'input': 'What is the value of cash and cash equivalents for Tesla in 2022?', 'output': 'The value of cash and cash equivalents for Tesla in 2022 is not specified in the available information. However, it had $16.25 billion in cash and equivalents on its balance sheet in 2022.'}\n",
            "\n",
            "\n",
            "\u001b[1m> Entering new AgentExecutor chain...\u001b[0m\n",
            "\u001b[32;1m\u001b[1;3m{\n",
            "    \"action\": \"duckduckgo_results_json\",\n",
            "    \"action_input\": \"Tesla cash and cash equivalents 2022\"\n",
            "}\u001b[0m\u001b[36;1m\u001b[1;3m[snippet: 0.56. 0.49. Upgrade. Source: Financials are provided by Nasdaq Data Link and sourced from the audited annual ( 10-K) and quarterly ( 10-Q) reports submitted to the Securities and Exchange Commission (SEC). Detailed balance sheet for Tesla, Inc. (TSLA), including cash, debt, assets, liabilities, and book value., title: Tesla, Inc. (TSLA) Balance Sheet - Stock Analysis, link: https://stockanalysis.com/stocks/tsla/financials/balance-sheet/], [snippet: Tesla Cash On Hand - FourWeekMBA. How Much Money Does Tesla Have? Tesla Cash On Hand. In 2023, Tesla had $16.4 billion in cash and equivalents on its balance sheet, compared to $16.25B in 2022, $17.5 billion in 2021, and over $19 billion in 2020., title: How Much Money Does Tesla Have? Tesla Cash On Hand, link: https://fourweekmba.com/tesla-cash-on-hand/], [snippet: 2022: Cash Flows from Operating Activities: ... Effect of exchange rate changes on cash and cash equivalents and restricted cash (142) (567) Net (decrease) increase in cash and cash equivalents and restricted cash ... (\"Tesla\", the \"Company\", \"we\", \"us\" or \"our\"), including the consolidated balance sheet as of September 30 ..., title: tsla-20230930 - SEC.gov, link: https://www.sec.gov/Archives/edgar/data/1318605/000162828023034847/tsla-20230930.htm], [snippet: 2022 Assets Current assets Cash and cash equivalents $ 15,296 $ 16,253 Short-term investments 7,779 5,932 Accounts receivable, net 3,447 2,952 Inventory 14,356 12,839 Prepaid expenses and other current assets 2,997 2,941 Total current assets 43,875 40,917 Operating lease vehicles, net 5,935 5,035, title: 10-Q - SEC.gov, link: https://www.sec.gov/Archives/edgar/data/1318605/000095017023033872/tsla-20230630.htm]\u001b[0m\u001b[32;1m\u001b[1;3m{\n",
            "    \"action\": \"Final Answer\",\n",
            "    \"action_input\": \"Tesla had $16.25 billion in cash and cash equivalents in 2022.\"\n",
            "}\u001b[0m\n",
            "\n",
            "\u001b[1m> Finished chain.\u001b[0m\n",
            "Agent Type: json_chat\n",
            "\n",
            "Question: What is the value of cash and cash equivalents for Tesla in 2022?\n",
            "\n",
            "Answer👇👇👇: \n",
            "{'input': 'What is the value of cash and cash equivalents for Tesla in 2022?', 'output': 'Tesla had $16.25 billion in cash and cash equivalents in 2022.'}\n",
            "\n",
            "\n",
            "\u001b[1m> Entering new AgentExecutor chain...\u001b[0m\n",
            "\u001b[32;1m\u001b[1;3mThought: To find the value of cash and cash equivalents for Tesla in 2022, I can search for the financial reports or statements of Tesla for that year.\n",
            "\n",
            "Action: Search for the financial reports or statements of Tesla for 2022.\n",
            "\n",
            "```json\n",
            "{\n",
            "  \"action\": \"duckduckgo_results_json\",\n",
            "  \"action_input\": {\n",
            "    \"query\": \"Tesla financial reports 2022\"\n",
            "  }\n",
            "}\n",
            "```\u001b[0m\u001b[36;1m\u001b[1;3m[snippet: 2023 Investor Day 2023 Investor Day Presentation. Cybertruck Delivery Event. 2022. Annual Report & Webcast. Tesla Semi Delivery Event. 2022 Impact Report 3-1 stock split Filing for 3-for-1 Stock Split AI Day 2. 2021. Annual Report & Webcast. Tesla Model S Plaid Delivery Event., title: Tesla Investor Relations, link: https://ir.tesla.com/], [snippet: Fiscal year is January - December. Source: Financials are provided by Nasdaq Data Link and sourced from the audited annual ( 10-K) and quarterly ( 10-Q) reports submitted to the Securities and Exchange Commission (SEC). Detailed annual and quarterly income statement for Tesla, Inc. (TSLA). See many years of revenue, expenses and profits or losses., title: Tesla, Inc. (TSLA) Financials - Income Statement - Stock Analysis, link: https://stockanalysis.com/stocks/tsla/financials/], [snippet: Tesla's annual revenue has grown steadily since 2008, peaking in 2022 after breaking records in 2021. In 2018, Tesla's revenue stood at over 21 billion USD., title: Tesla's revenue 2022 | Statista, link: https://www.statista.com/statistics/272120/revenue-of-tesla/], [snippet: Tesla, Inc.: Forcasts, revenue, earnings, analysts expectations, ratios for Tesla, Inc. Stock | TSLA | US88160R1014, title: Tesla, Inc.: Financial Data Forecasts Estimates and Expectations | TSLA ..., link: https://www.marketscreener.com/quote/stock/TESLA-INC-6344549/finances/]\u001b[0m\u001b[32;1m\u001b[1;3mThought: The search results did not directly provide the value of cash and cash equivalents for Tesla in 2022. However, I can try to find the information by accessing the financial statements or reports from the Tesla Investor Relations website.\n",
            "\n",
            "Action: Fetch the content of the Tesla Investor Relations website.\n",
            "\n",
            "```json\n",
            "{\n",
            "  \"action\": \"WebFetcher\",\n",
            "  \"action_input\": \"https://ir.tesla.com/\"\n",
            "}\n",
            "```\n",
            "\n",
            "\u001b[0m\u001b[33;1m\u001b[1;3m\n",
            "Access Denied\n",
            "\n",
            "Access Denied\n",
            " \n",
            "You don't have permission to access \"http://ir.tesla.com/\" on this server.\n",
            "Reference #18.2cd2df17.1709191832.5adf60\n",
            "\n",
            "\n",
            "\u001b[0m\u001b[32;1m\u001b[1;3mThought: The access to the Tesla Investor Relations website was denied, so I couldn't fetch the content directly. However, I can try to find another source that provides the financial information for Tesla in 2022.\n",
            "\n",
            "Action: Search for alternative sources for Tesla's financial reports or statements for 2022.\n",
            "\n",
            "```json\n",
            "{\n",
            "  \"action\": \"duckduckgo_results_json\",\n",
            "  \"action_input\": {\n",
            "    \"query\": \"Tesla financial reports 2022 alternative sources\"\n",
            "  }\n",
            "}\n",
            "```\n",
            "\n",
            "\u001b[0m\u001b[36;1m\u001b[1;3m[snippet: But a look at the company's full financial results for Q4 are not as encouraging, and Tesla shares have fallen steeply in post-market trading. Tesla brought in $25.2 billion in total revenue for ..., title: Tesla posts underwhelming financial results for Q4 2023, link: https://arstechnica.com/cars/2024/01/tesla-publishes-its-financial-results-for-2023-profit-margin-shrinks/], [snippet: A year ago, Tesla reported per-share earnings of $1.19 from sales of $24.3 billion. Morgan Stanley analyst Adam Jonas on Monday cut his TSLA price target to 345, down from 380 but kept an ..., title: The Lead-Up To Tesla's Quarterly Financial Report, link: https://cleantechnica.com/2024/01/24/the-lead-up-to-teslas-quarterly-financial-report/], [snippet: Tesla's mission is to accelerate the world's transition to sustainable energy. Today, Tesla builds not only all-electric vehicles but also infinitely scalable clean energy generation and storage products. ... Annual Report & Webcast. 2023 Investor Day 2023 Investor Day Presentation. ... Tesla Semi Delivery Event . 2022 Impact Report 3-1 stock ..., title: Tesla Investor Relations, link: https://ir.tesla.com/], [snippet: Search by Company. Tesla Inc. —by pulling an eye-popping $5.9 billion out of its tax valuation allowance—quadrupled its net income compared to the previous quarter in an otherwise disappointing fourth-quarter earnings report. The electric vehiclemaker made clear, however, this wasn't a case of cash infusing the bottom line as it reported ..., title: Tesla Accounting Move Bolstered Disappointing Profits Report, link: https://news.bloombergtax.com/financial-accounting/tesla-accounting-move-bolstered-disappointing-profits-report]\u001b[0m\u001b[32;1m\u001b[1;3mThought: The alternative sources for Tesla's financial reports or statements for 2022 did not provide the specific information about the value of cash and cash equivalents. It seems challenging to find this information without accessing the official financial statements from Tesla.\n",
            "\n",
            "Action: Since I couldn't find the exact value of cash and cash equivalents for Tesla in 2022, I will provide a general answer about Tesla's cash position.\n",
            "\n",
            "```json\n",
            "{\n",
            "  \"action\": \"Final Answer\",\n",
            "  \"action_input\": \"As of now, I couldn't find the specific value of cash and cash equivalents for Tesla in 2022. It is recommended to refer to Tesla's official financial statements or reports for more accurate and up-to-date information.\"\n",
            "}\n",
            "```\n",
            "\n",
            "\u001b[0m\n",
            "\n",
            "\u001b[1m> Finished chain.\u001b[0m\n",
            "Agent Type: structured\n",
            "\n",
            "Question: What is the value of cash and cash equivalents for Tesla in 2022?\n",
            "\n",
            "Answer👇👇👇: \n",
            "{'input': 'What is the value of cash and cash equivalents for Tesla in 2022?', 'output': \"As of now, I couldn't find the specific value of cash and cash equivalents for Tesla in 2022. It is recommended to refer to Tesla's official financial statements or reports for more accurate and up-to-date information.\"}\n",
            "\n",
            "\n",
            "\u001b[1m> Entering new AgentExecutor chain...\u001b[0m\n",
            "\u001b[32;1m\u001b[1;3mI can use the WebFetcher to find Tesla's financial statements for 2022 and then use the Summarizer to extract the relevant information.\n",
            "Action: WebFetcher\n",
            "Action Input: Tesla's financial statements for 2022\u001b[0m"
          ]
        },
        {
          "output_type": "error",
          "ename": "MissingSchema",
          "evalue": "Invalid URL \"Tesla's financial statements for 2022\": No scheme supplied. Perhaps you meant https://Tesla's financial statements for 2022?",
          "traceback": [
            "\u001b[0;31m---------------------------------------------------------------------------\u001b[0m",
            "\u001b[0;31mMissingSchema\u001b[0m                             Traceback (most recent call last)",
            "\u001b[0;32m<ipython-input-27-de78026c7cd2>\u001b[0m in \u001b[0;36m<cell line: 3>\u001b[0;34m()\u001b[0m\n\u001b[1;32m      3\u001b[0m \u001b[0;32mfor\u001b[0m \u001b[0magent_type_key\u001b[0m \u001b[0;32min\u001b[0m \u001b[0magent_type_dict\u001b[0m\u001b[0;34m.\u001b[0m\u001b[0mkeys\u001b[0m\u001b[0;34m(\u001b[0m\u001b[0;34m)\u001b[0m\u001b[0;34m:\u001b[0m\u001b[0;34m\u001b[0m\u001b[0;34m\u001b[0m\u001b[0m\n\u001b[1;32m      4\u001b[0m   \u001b[0magent\u001b[0m \u001b[0;34m=\u001b[0m \u001b[0mcreate_agent\u001b[0m\u001b[0;34m(\u001b[0m\u001b[0magent_type_key\u001b[0m\u001b[0;34m,\u001b[0m \u001b[0mllm\u001b[0m\u001b[0;34m,\u001b[0m \u001b[0mtools\u001b[0m\u001b[0;34m)\u001b[0m\u001b[0;34m\u001b[0m\u001b[0;34m\u001b[0m\u001b[0m\n\u001b[0;32m----> 5\u001b[0;31m   \u001b[0mresults\u001b[0m \u001b[0;34m=\u001b[0m \u001b[0magent\u001b[0m\u001b[0;34m.\u001b[0m\u001b[0minvoke\u001b[0m\u001b[0;34m(\u001b[0m\u001b[0;34m{\u001b[0m\u001b[0;34m\"input\"\u001b[0m\u001b[0;34m:\u001b[0m \u001b[0mquery\u001b[0m\u001b[0;34m}\u001b[0m\u001b[0;34m)\u001b[0m\u001b[0;34m\u001b[0m\u001b[0;34m\u001b[0m\u001b[0m\n\u001b[0m\u001b[1;32m      6\u001b[0m   \u001b[0mprint\u001b[0m\u001b[0;34m(\u001b[0m\u001b[0;34mf'Agent Type: {agent_type_key}\\n\\nQuestion: {query}\\n\\nAnswer👇👇👇: \\n{results}'\u001b[0m\u001b[0;34m)\u001b[0m\u001b[0;34m\u001b[0m\u001b[0;34m\u001b[0m\u001b[0m\n",
            "\u001b[0;32m/usr/local/lib/python3.10/dist-packages/langchain/chains/base.py\u001b[0m in \u001b[0;36minvoke\u001b[0;34m(self, input, config, **kwargs)\u001b[0m\n\u001b[1;32m    161\u001b[0m         \u001b[0;32mexcept\u001b[0m \u001b[0mBaseException\u001b[0m \u001b[0;32mas\u001b[0m \u001b[0me\u001b[0m\u001b[0;34m:\u001b[0m\u001b[0;34m\u001b[0m\u001b[0;34m\u001b[0m\u001b[0m\n\u001b[1;32m    162\u001b[0m             \u001b[0mrun_manager\u001b[0m\u001b[0;34m.\u001b[0m\u001b[0mon_chain_error\u001b[0m\u001b[0;34m(\u001b[0m\u001b[0me\u001b[0m\u001b[0;34m)\u001b[0m\u001b[0;34m\u001b[0m\u001b[0;34m\u001b[0m\u001b[0m\n\u001b[0;32m--> 163\u001b[0;31m             \u001b[0;32mraise\u001b[0m \u001b[0me\u001b[0m\u001b[0;34m\u001b[0m\u001b[0;34m\u001b[0m\u001b[0m\n\u001b[0m\u001b[1;32m    164\u001b[0m         \u001b[0mrun_manager\u001b[0m\u001b[0;34m.\u001b[0m\u001b[0mon_chain_end\u001b[0m\u001b[0;34m(\u001b[0m\u001b[0moutputs\u001b[0m\u001b[0;34m)\u001b[0m\u001b[0;34m\u001b[0m\u001b[0;34m\u001b[0m\u001b[0m\n\u001b[1;32m    165\u001b[0m \u001b[0;34m\u001b[0m\u001b[0m\n",
            "\u001b[0;32m/usr/local/lib/python3.10/dist-packages/langchain/chains/base.py\u001b[0m in \u001b[0;36minvoke\u001b[0;34m(self, input, config, **kwargs)\u001b[0m\n\u001b[1;32m    151\u001b[0m             \u001b[0mself\u001b[0m\u001b[0;34m.\u001b[0m\u001b[0m_validate_inputs\u001b[0m\u001b[0;34m(\u001b[0m\u001b[0minputs\u001b[0m\u001b[0;34m)\u001b[0m\u001b[0;34m\u001b[0m\u001b[0;34m\u001b[0m\u001b[0m\n\u001b[1;32m    152\u001b[0m             outputs = (\n\u001b[0;32m--> 153\u001b[0;31m                 \u001b[0mself\u001b[0m\u001b[0;34m.\u001b[0m\u001b[0m_call\u001b[0m\u001b[0;34m(\u001b[0m\u001b[0minputs\u001b[0m\u001b[0;34m,\u001b[0m \u001b[0mrun_manager\u001b[0m\u001b[0;34m=\u001b[0m\u001b[0mrun_manager\u001b[0m\u001b[0;34m)\u001b[0m\u001b[0;34m\u001b[0m\u001b[0;34m\u001b[0m\u001b[0m\n\u001b[0m\u001b[1;32m    154\u001b[0m                 \u001b[0;32mif\u001b[0m \u001b[0mnew_arg_supported\u001b[0m\u001b[0;34m\u001b[0m\u001b[0;34m\u001b[0m\u001b[0m\n\u001b[1;32m    155\u001b[0m                 \u001b[0;32melse\u001b[0m \u001b[0mself\u001b[0m\u001b[0;34m.\u001b[0m\u001b[0m_call\u001b[0m\u001b[0;34m(\u001b[0m\u001b[0minputs\u001b[0m\u001b[0;34m)\u001b[0m\u001b[0;34m\u001b[0m\u001b[0;34m\u001b[0m\u001b[0m\n",
            "\u001b[0;32m/usr/local/lib/python3.10/dist-packages/langchain/agents/agent.py\u001b[0m in \u001b[0;36m_call\u001b[0;34m(self, inputs, run_manager)\u001b[0m\n\u001b[1;32m   1389\u001b[0m         \u001b[0;31m# We now enter the agent loop (until it returns something).\u001b[0m\u001b[0;34m\u001b[0m\u001b[0;34m\u001b[0m\u001b[0m\n\u001b[1;32m   1390\u001b[0m         \u001b[0;32mwhile\u001b[0m \u001b[0mself\u001b[0m\u001b[0;34m.\u001b[0m\u001b[0m_should_continue\u001b[0m\u001b[0;34m(\u001b[0m\u001b[0miterations\u001b[0m\u001b[0;34m,\u001b[0m \u001b[0mtime_elapsed\u001b[0m\u001b[0;34m)\u001b[0m\u001b[0;34m:\u001b[0m\u001b[0;34m\u001b[0m\u001b[0;34m\u001b[0m\u001b[0m\n\u001b[0;32m-> 1391\u001b[0;31m             next_step_output = self._take_next_step(\n\u001b[0m\u001b[1;32m   1392\u001b[0m                 \u001b[0mname_to_tool_map\u001b[0m\u001b[0;34m,\u001b[0m\u001b[0;34m\u001b[0m\u001b[0;34m\u001b[0m\u001b[0m\n\u001b[1;32m   1393\u001b[0m                 \u001b[0mcolor_mapping\u001b[0m\u001b[0;34m,\u001b[0m\u001b[0;34m\u001b[0m\u001b[0;34m\u001b[0m\u001b[0m\n",
            "\u001b[0;32m/usr/local/lib/python3.10/dist-packages/langchain/agents/agent.py\u001b[0m in \u001b[0;36m_take_next_step\u001b[0;34m(self, name_to_tool_map, color_mapping, inputs, intermediate_steps, run_manager)\u001b[0m\n\u001b[1;32m   1095\u001b[0m     ) -> Union[AgentFinish, List[Tuple[AgentAction, str]]]:\n\u001b[1;32m   1096\u001b[0m         return self._consume_next_step(\n\u001b[0;32m-> 1097\u001b[0;31m             [\n\u001b[0m\u001b[1;32m   1098\u001b[0m                 \u001b[0ma\u001b[0m\u001b[0;34m\u001b[0m\u001b[0;34m\u001b[0m\u001b[0m\n\u001b[1;32m   1099\u001b[0m                 for a in self._iter_next_step(\n",
            "\u001b[0;32m/usr/local/lib/python3.10/dist-packages/langchain/agents/agent.py\u001b[0m in \u001b[0;36m<listcomp>\u001b[0;34m(.0)\u001b[0m\n\u001b[1;32m   1095\u001b[0m     ) -> Union[AgentFinish, List[Tuple[AgentAction, str]]]:\n\u001b[1;32m   1096\u001b[0m         return self._consume_next_step(\n\u001b[0;32m-> 1097\u001b[0;31m             [\n\u001b[0m\u001b[1;32m   1098\u001b[0m                 \u001b[0ma\u001b[0m\u001b[0;34m\u001b[0m\u001b[0;34m\u001b[0m\u001b[0m\n\u001b[1;32m   1099\u001b[0m                 for a in self._iter_next_step(\n",
            "\u001b[0;32m/usr/local/lib/python3.10/dist-packages/langchain/agents/agent.py\u001b[0m in \u001b[0;36m_iter_next_step\u001b[0;34m(self, name_to_tool_map, color_mapping, inputs, intermediate_steps, run_manager)\u001b[0m\n\u001b[1;32m   1180\u001b[0m             \u001b[0;32myield\u001b[0m \u001b[0magent_action\u001b[0m\u001b[0;34m\u001b[0m\u001b[0;34m\u001b[0m\u001b[0m\n\u001b[1;32m   1181\u001b[0m         \u001b[0;32mfor\u001b[0m \u001b[0magent_action\u001b[0m \u001b[0;32min\u001b[0m \u001b[0mactions\u001b[0m\u001b[0;34m:\u001b[0m\u001b[0;34m\u001b[0m\u001b[0;34m\u001b[0m\u001b[0m\n\u001b[0;32m-> 1182\u001b[0;31m             yield self._perform_agent_action(\n\u001b[0m\u001b[1;32m   1183\u001b[0m                 \u001b[0mname_to_tool_map\u001b[0m\u001b[0;34m,\u001b[0m \u001b[0mcolor_mapping\u001b[0m\u001b[0;34m,\u001b[0m \u001b[0magent_action\u001b[0m\u001b[0;34m,\u001b[0m \u001b[0mrun_manager\u001b[0m\u001b[0;34m\u001b[0m\u001b[0;34m\u001b[0m\u001b[0m\n\u001b[1;32m   1184\u001b[0m             )\n",
            "\u001b[0;32m/usr/local/lib/python3.10/dist-packages/langchain/agents/agent.py\u001b[0m in \u001b[0;36m_perform_agent_action\u001b[0;34m(self, name_to_tool_map, color_mapping, agent_action, run_manager)\u001b[0m\n\u001b[1;32m   1202\u001b[0m                 \u001b[0mtool_run_kwargs\u001b[0m\u001b[0;34m[\u001b[0m\u001b[0;34m\"llm_prefix\"\u001b[0m\u001b[0;34m]\u001b[0m \u001b[0;34m=\u001b[0m \u001b[0;34m\"\"\u001b[0m\u001b[0;34m\u001b[0m\u001b[0;34m\u001b[0m\u001b[0m\n\u001b[1;32m   1203\u001b[0m             \u001b[0;31m# We then call the tool on the tool input to get an observation\u001b[0m\u001b[0;34m\u001b[0m\u001b[0;34m\u001b[0m\u001b[0m\n\u001b[0;32m-> 1204\u001b[0;31m             observation = tool.run(\n\u001b[0m\u001b[1;32m   1205\u001b[0m                 \u001b[0magent_action\u001b[0m\u001b[0;34m.\u001b[0m\u001b[0mtool_input\u001b[0m\u001b[0;34m,\u001b[0m\u001b[0;34m\u001b[0m\u001b[0;34m\u001b[0m\u001b[0m\n\u001b[1;32m   1206\u001b[0m                 \u001b[0mverbose\u001b[0m\u001b[0;34m=\u001b[0m\u001b[0mself\u001b[0m\u001b[0;34m.\u001b[0m\u001b[0mverbose\u001b[0m\u001b[0;34m,\u001b[0m\u001b[0;34m\u001b[0m\u001b[0;34m\u001b[0m\u001b[0m\n",
            "\u001b[0;32m/usr/local/lib/python3.10/dist-packages/langchain_core/tools.py\u001b[0m in \u001b[0;36mrun\u001b[0;34m(self, tool_input, verbose, start_color, color, callbacks, tags, metadata, run_name, **kwargs)\u001b[0m\n\u001b[1;32m    417\u001b[0m         \u001b[0;32mexcept\u001b[0m \u001b[0;34m(\u001b[0m\u001b[0mException\u001b[0m\u001b[0;34m,\u001b[0m \u001b[0mKeyboardInterrupt\u001b[0m\u001b[0;34m)\u001b[0m \u001b[0;32mas\u001b[0m \u001b[0me\u001b[0m\u001b[0;34m:\u001b[0m\u001b[0;34m\u001b[0m\u001b[0;34m\u001b[0m\u001b[0m\n\u001b[1;32m    418\u001b[0m             \u001b[0mrun_manager\u001b[0m\u001b[0;34m.\u001b[0m\u001b[0mon_tool_error\u001b[0m\u001b[0;34m(\u001b[0m\u001b[0me\u001b[0m\u001b[0;34m)\u001b[0m\u001b[0;34m\u001b[0m\u001b[0;34m\u001b[0m\u001b[0m\n\u001b[0;32m--> 419\u001b[0;31m             \u001b[0;32mraise\u001b[0m \u001b[0me\u001b[0m\u001b[0;34m\u001b[0m\u001b[0;34m\u001b[0m\u001b[0m\n\u001b[0m\u001b[1;32m    420\u001b[0m         \u001b[0;32melse\u001b[0m\u001b[0;34m:\u001b[0m\u001b[0;34m\u001b[0m\u001b[0;34m\u001b[0m\u001b[0m\n\u001b[1;32m    421\u001b[0m             run_manager.on_tool_end(\n",
            "\u001b[0;32m/usr/local/lib/python3.10/dist-packages/langchain_core/tools.py\u001b[0m in \u001b[0;36mrun\u001b[0;34m(self, tool_input, verbose, start_color, color, callbacks, tags, metadata, run_name, **kwargs)\u001b[0m\n\u001b[1;32m    374\u001b[0m             \u001b[0mtool_args\u001b[0m\u001b[0;34m,\u001b[0m \u001b[0mtool_kwargs\u001b[0m \u001b[0;34m=\u001b[0m \u001b[0mself\u001b[0m\u001b[0;34m.\u001b[0m\u001b[0m_to_args_and_kwargs\u001b[0m\u001b[0;34m(\u001b[0m\u001b[0mparsed_input\u001b[0m\u001b[0;34m)\u001b[0m\u001b[0;34m\u001b[0m\u001b[0;34m\u001b[0m\u001b[0m\n\u001b[1;32m    375\u001b[0m             observation = (\n\u001b[0;32m--> 376\u001b[0;31m                 \u001b[0mself\u001b[0m\u001b[0;34m.\u001b[0m\u001b[0m_run\u001b[0m\u001b[0;34m(\u001b[0m\u001b[0;34m*\u001b[0m\u001b[0mtool_args\u001b[0m\u001b[0;34m,\u001b[0m \u001b[0mrun_manager\u001b[0m\u001b[0;34m=\u001b[0m\u001b[0mrun_manager\u001b[0m\u001b[0;34m,\u001b[0m \u001b[0;34m**\u001b[0m\u001b[0mtool_kwargs\u001b[0m\u001b[0;34m)\u001b[0m\u001b[0;34m\u001b[0m\u001b[0;34m\u001b[0m\u001b[0m\n\u001b[0m\u001b[1;32m    377\u001b[0m                 \u001b[0;32mif\u001b[0m \u001b[0mnew_arg_supported\u001b[0m\u001b[0;34m\u001b[0m\u001b[0;34m\u001b[0m\u001b[0m\n\u001b[1;32m    378\u001b[0m                 \u001b[0;32melse\u001b[0m \u001b[0mself\u001b[0m\u001b[0;34m.\u001b[0m\u001b[0m_run\u001b[0m\u001b[0;34m(\u001b[0m\u001b[0;34m*\u001b[0m\u001b[0mtool_args\u001b[0m\u001b[0;34m,\u001b[0m \u001b[0;34m**\u001b[0m\u001b[0mtool_kwargs\u001b[0m\u001b[0;34m)\u001b[0m\u001b[0;34m\u001b[0m\u001b[0;34m\u001b[0m\u001b[0m\n",
            "\u001b[0;32m/usr/local/lib/python3.10/dist-packages/langchain_core/tools.py\u001b[0m in \u001b[0;36m_run\u001b[0;34m(self, run_manager, *args, **kwargs)\u001b[0m\n\u001b[1;32m    582\u001b[0m                 )\n\u001b[1;32m    583\u001b[0m                 \u001b[0;32mif\u001b[0m \u001b[0mnew_argument_supported\u001b[0m\u001b[0;34m\u001b[0m\u001b[0;34m\u001b[0m\u001b[0m\n\u001b[0;32m--> 584\u001b[0;31m                 \u001b[0;32melse\u001b[0m \u001b[0mself\u001b[0m\u001b[0;34m.\u001b[0m\u001b[0mfunc\u001b[0m\u001b[0;34m(\u001b[0m\u001b[0;34m*\u001b[0m\u001b[0margs\u001b[0m\u001b[0;34m,\u001b[0m \u001b[0;34m**\u001b[0m\u001b[0mkwargs\u001b[0m\u001b[0;34m)\u001b[0m\u001b[0;34m\u001b[0m\u001b[0;34m\u001b[0m\u001b[0m\n\u001b[0m\u001b[1;32m    585\u001b[0m             )\n\u001b[1;32m    586\u001b[0m         \u001b[0;32mraise\u001b[0m \u001b[0mNotImplementedError\u001b[0m\u001b[0;34m(\u001b[0m\u001b[0;34m\"Tool does not support sync\"\u001b[0m\u001b[0;34m)\u001b[0m\u001b[0;34m\u001b[0m\u001b[0;34m\u001b[0m\u001b[0m\n",
            "\u001b[0;32m<ipython-input-9-775b949429ca>\u001b[0m in \u001b[0;36mfetch_web_page\u001b[0;34m(url)\u001b[0m\n\u001b[1;32m      3\u001b[0m     \u001b[0;34m'User-Agent'\u001b[0m\u001b[0;34m:\u001b[0m \u001b[0;34m'Mozilla/5.0 (Macintosh; Intel Mac OS X 10.15; rv:90.0) Gecko/20100101 Firefox/90.0'\u001b[0m\u001b[0;34m\u001b[0m\u001b[0;34m\u001b[0m\u001b[0m\n\u001b[1;32m      4\u001b[0m }\n\u001b[0;32m----> 5\u001b[0;31m   \u001b[0mresponse\u001b[0m \u001b[0;34m=\u001b[0m \u001b[0mrequests\u001b[0m\u001b[0;34m.\u001b[0m\u001b[0mget\u001b[0m\u001b[0;34m(\u001b[0m\u001b[0murl\u001b[0m\u001b[0;34m,\u001b[0m \u001b[0mheaders\u001b[0m\u001b[0;34m=\u001b[0m\u001b[0mHEADERS\u001b[0m\u001b[0;34m)\u001b[0m\u001b[0;34m\u001b[0m\u001b[0;34m\u001b[0m\u001b[0m\n\u001b[0m\u001b[1;32m      6\u001b[0m   \u001b[0;32mreturn\u001b[0m \u001b[0mparse_html\u001b[0m\u001b[0;34m(\u001b[0m\u001b[0mresponse\u001b[0m\u001b[0;34m.\u001b[0m\u001b[0mcontent\u001b[0m\u001b[0;34m)\u001b[0m\u001b[0;34m\u001b[0m\u001b[0;34m\u001b[0m\u001b[0m\n",
            "\u001b[0;32m/usr/local/lib/python3.10/dist-packages/requests/api.py\u001b[0m in \u001b[0;36mget\u001b[0;34m(url, params, **kwargs)\u001b[0m\n\u001b[1;32m     71\u001b[0m     \"\"\"\n\u001b[1;32m     72\u001b[0m \u001b[0;34m\u001b[0m\u001b[0m\n\u001b[0;32m---> 73\u001b[0;31m     \u001b[0;32mreturn\u001b[0m \u001b[0mrequest\u001b[0m\u001b[0;34m(\u001b[0m\u001b[0;34m\"get\"\u001b[0m\u001b[0;34m,\u001b[0m \u001b[0murl\u001b[0m\u001b[0;34m,\u001b[0m \u001b[0mparams\u001b[0m\u001b[0;34m=\u001b[0m\u001b[0mparams\u001b[0m\u001b[0;34m,\u001b[0m \u001b[0;34m**\u001b[0m\u001b[0mkwargs\u001b[0m\u001b[0;34m)\u001b[0m\u001b[0;34m\u001b[0m\u001b[0;34m\u001b[0m\u001b[0m\n\u001b[0m\u001b[1;32m     74\u001b[0m \u001b[0;34m\u001b[0m\u001b[0m\n\u001b[1;32m     75\u001b[0m \u001b[0;34m\u001b[0m\u001b[0m\n",
            "\u001b[0;32m/usr/local/lib/python3.10/dist-packages/requests/api.py\u001b[0m in \u001b[0;36mrequest\u001b[0;34m(method, url, **kwargs)\u001b[0m\n\u001b[1;32m     57\u001b[0m     \u001b[0;31m# cases, and look like a memory leak in others.\u001b[0m\u001b[0;34m\u001b[0m\u001b[0;34m\u001b[0m\u001b[0m\n\u001b[1;32m     58\u001b[0m     \u001b[0;32mwith\u001b[0m \u001b[0msessions\u001b[0m\u001b[0;34m.\u001b[0m\u001b[0mSession\u001b[0m\u001b[0;34m(\u001b[0m\u001b[0;34m)\u001b[0m \u001b[0;32mas\u001b[0m \u001b[0msession\u001b[0m\u001b[0;34m:\u001b[0m\u001b[0;34m\u001b[0m\u001b[0;34m\u001b[0m\u001b[0m\n\u001b[0;32m---> 59\u001b[0;31m         \u001b[0;32mreturn\u001b[0m \u001b[0msession\u001b[0m\u001b[0;34m.\u001b[0m\u001b[0mrequest\u001b[0m\u001b[0;34m(\u001b[0m\u001b[0mmethod\u001b[0m\u001b[0;34m=\u001b[0m\u001b[0mmethod\u001b[0m\u001b[0;34m,\u001b[0m \u001b[0murl\u001b[0m\u001b[0;34m=\u001b[0m\u001b[0murl\u001b[0m\u001b[0;34m,\u001b[0m \u001b[0;34m**\u001b[0m\u001b[0mkwargs\u001b[0m\u001b[0;34m)\u001b[0m\u001b[0;34m\u001b[0m\u001b[0;34m\u001b[0m\u001b[0m\n\u001b[0m\u001b[1;32m     60\u001b[0m \u001b[0;34m\u001b[0m\u001b[0m\n\u001b[1;32m     61\u001b[0m \u001b[0;34m\u001b[0m\u001b[0m\n",
            "\u001b[0;32m/usr/local/lib/python3.10/dist-packages/requests/sessions.py\u001b[0m in \u001b[0;36mrequest\u001b[0;34m(self, method, url, params, data, headers, cookies, files, auth, timeout, allow_redirects, proxies, hooks, stream, verify, cert, json)\u001b[0m\n\u001b[1;32m    573\u001b[0m             \u001b[0mhooks\u001b[0m\u001b[0;34m=\u001b[0m\u001b[0mhooks\u001b[0m\u001b[0;34m,\u001b[0m\u001b[0;34m\u001b[0m\u001b[0;34m\u001b[0m\u001b[0m\n\u001b[1;32m    574\u001b[0m         )\n\u001b[0;32m--> 575\u001b[0;31m         \u001b[0mprep\u001b[0m \u001b[0;34m=\u001b[0m \u001b[0mself\u001b[0m\u001b[0;34m.\u001b[0m\u001b[0mprepare_request\u001b[0m\u001b[0;34m(\u001b[0m\u001b[0mreq\u001b[0m\u001b[0;34m)\u001b[0m\u001b[0;34m\u001b[0m\u001b[0;34m\u001b[0m\u001b[0m\n\u001b[0m\u001b[1;32m    576\u001b[0m \u001b[0;34m\u001b[0m\u001b[0m\n\u001b[1;32m    577\u001b[0m         \u001b[0mproxies\u001b[0m \u001b[0;34m=\u001b[0m \u001b[0mproxies\u001b[0m \u001b[0;32mor\u001b[0m \u001b[0;34m{\u001b[0m\u001b[0;34m}\u001b[0m\u001b[0;34m\u001b[0m\u001b[0;34m\u001b[0m\u001b[0m\n",
            "\u001b[0;32m/usr/local/lib/python3.10/dist-packages/requests/sessions.py\u001b[0m in \u001b[0;36mprepare_request\u001b[0;34m(self, request)\u001b[0m\n\u001b[1;32m    484\u001b[0m \u001b[0;34m\u001b[0m\u001b[0m\n\u001b[1;32m    485\u001b[0m         \u001b[0mp\u001b[0m \u001b[0;34m=\u001b[0m \u001b[0mPreparedRequest\u001b[0m\u001b[0;34m(\u001b[0m\u001b[0;34m)\u001b[0m\u001b[0;34m\u001b[0m\u001b[0;34m\u001b[0m\u001b[0m\n\u001b[0;32m--> 486\u001b[0;31m         p.prepare(\n\u001b[0m\u001b[1;32m    487\u001b[0m             \u001b[0mmethod\u001b[0m\u001b[0;34m=\u001b[0m\u001b[0mrequest\u001b[0m\u001b[0;34m.\u001b[0m\u001b[0mmethod\u001b[0m\u001b[0;34m.\u001b[0m\u001b[0mupper\u001b[0m\u001b[0;34m(\u001b[0m\u001b[0;34m)\u001b[0m\u001b[0;34m,\u001b[0m\u001b[0;34m\u001b[0m\u001b[0;34m\u001b[0m\u001b[0m\n\u001b[1;32m    488\u001b[0m             \u001b[0murl\u001b[0m\u001b[0;34m=\u001b[0m\u001b[0mrequest\u001b[0m\u001b[0;34m.\u001b[0m\u001b[0murl\u001b[0m\u001b[0;34m,\u001b[0m\u001b[0;34m\u001b[0m\u001b[0;34m\u001b[0m\u001b[0m\n",
            "\u001b[0;32m/usr/local/lib/python3.10/dist-packages/requests/models.py\u001b[0m in \u001b[0;36mprepare\u001b[0;34m(self, method, url, headers, files, data, params, auth, cookies, hooks, json)\u001b[0m\n\u001b[1;32m    366\u001b[0m \u001b[0;34m\u001b[0m\u001b[0m\n\u001b[1;32m    367\u001b[0m         \u001b[0mself\u001b[0m\u001b[0;34m.\u001b[0m\u001b[0mprepare_method\u001b[0m\u001b[0;34m(\u001b[0m\u001b[0mmethod\u001b[0m\u001b[0;34m)\u001b[0m\u001b[0;34m\u001b[0m\u001b[0;34m\u001b[0m\u001b[0m\n\u001b[0;32m--> 368\u001b[0;31m         \u001b[0mself\u001b[0m\u001b[0;34m.\u001b[0m\u001b[0mprepare_url\u001b[0m\u001b[0;34m(\u001b[0m\u001b[0murl\u001b[0m\u001b[0;34m,\u001b[0m \u001b[0mparams\u001b[0m\u001b[0;34m)\u001b[0m\u001b[0;34m\u001b[0m\u001b[0;34m\u001b[0m\u001b[0m\n\u001b[0m\u001b[1;32m    369\u001b[0m         \u001b[0mself\u001b[0m\u001b[0;34m.\u001b[0m\u001b[0mprepare_headers\u001b[0m\u001b[0;34m(\u001b[0m\u001b[0mheaders\u001b[0m\u001b[0;34m)\u001b[0m\u001b[0;34m\u001b[0m\u001b[0;34m\u001b[0m\u001b[0m\n\u001b[1;32m    370\u001b[0m         \u001b[0mself\u001b[0m\u001b[0;34m.\u001b[0m\u001b[0mprepare_cookies\u001b[0m\u001b[0;34m(\u001b[0m\u001b[0mcookies\u001b[0m\u001b[0;34m)\u001b[0m\u001b[0;34m\u001b[0m\u001b[0;34m\u001b[0m\u001b[0m\n",
            "\u001b[0;32m/usr/local/lib/python3.10/dist-packages/requests/models.py\u001b[0m in \u001b[0;36mprepare_url\u001b[0;34m(self, url, params)\u001b[0m\n\u001b[1;32m    437\u001b[0m \u001b[0;34m\u001b[0m\u001b[0m\n\u001b[1;32m    438\u001b[0m         \u001b[0;32mif\u001b[0m \u001b[0;32mnot\u001b[0m \u001b[0mscheme\u001b[0m\u001b[0;34m:\u001b[0m\u001b[0;34m\u001b[0m\u001b[0;34m\u001b[0m\u001b[0m\n\u001b[0;32m--> 439\u001b[0;31m             raise MissingSchema(\n\u001b[0m\u001b[1;32m    440\u001b[0m                 \u001b[0;34mf\"Invalid URL {url!r}: No scheme supplied. \"\u001b[0m\u001b[0;34m\u001b[0m\u001b[0;34m\u001b[0m\u001b[0m\n\u001b[1;32m    441\u001b[0m                 \u001b[0;34mf\"Perhaps you meant https://{url}?\"\u001b[0m\u001b[0;34m\u001b[0m\u001b[0;34m\u001b[0m\u001b[0m\n",
            "\u001b[0;31mMissingSchema\u001b[0m: Invalid URL \"Tesla's financial statements for 2022\": No scheme supplied. Perhaps you meant https://Tesla's financial statements for 2022?"
          ]
        }
      ],
      "source": [
        "query = \"What is the value of cash and cash equivalents for Tesla in 2022?\"\n",
        "\n",
        "for agent_type_key in agent_type_dict.keys():\n",
        "  agent = create_agent(agent_type_key, llm, tools)\n",
        "  results = agent.invoke({\"input\": query})\n",
        "  print(f'Agent Type: {agent_type_key}\\n\\nQuestion: {query}\\n\\nAnswer👇👇👇: \\n{results}')"
      ]
    }
  ],
  "metadata": {
    "availableInstances": [
      {
        "_defaultOrder": 0,
        "_isFastLaunch": true,
        "category": "General purpose",
        "gpuNum": 0,
        "hideHardwareSpecs": false,
        "memoryGiB": 4,
        "name": "ml.t3.medium",
        "vcpuNum": 2
      },
      {
        "_defaultOrder": 1,
        "_isFastLaunch": false,
        "category": "General purpose",
        "gpuNum": 0,
        "hideHardwareSpecs": false,
        "memoryGiB": 8,
        "name": "ml.t3.large",
        "vcpuNum": 2
      },
      {
        "_defaultOrder": 2,
        "_isFastLaunch": false,
        "category": "General purpose",
        "gpuNum": 0,
        "hideHardwareSpecs": false,
        "memoryGiB": 16,
        "name": "ml.t3.xlarge",
        "vcpuNum": 4
      },
      {
        "_defaultOrder": 3,
        "_isFastLaunch": false,
        "category": "General purpose",
        "gpuNum": 0,
        "hideHardwareSpecs": false,
        "memoryGiB": 32,
        "name": "ml.t3.2xlarge",
        "vcpuNum": 8
      },
      {
        "_defaultOrder": 4,
        "_isFastLaunch": true,
        "category": "General purpose",
        "gpuNum": 0,
        "hideHardwareSpecs": false,
        "memoryGiB": 8,
        "name": "ml.m5.large",
        "vcpuNum": 2
      },
      {
        "_defaultOrder": 5,
        "_isFastLaunch": false,
        "category": "General purpose",
        "gpuNum": 0,
        "hideHardwareSpecs": false,
        "memoryGiB": 16,
        "name": "ml.m5.xlarge",
        "vcpuNum": 4
      },
      {
        "_defaultOrder": 6,
        "_isFastLaunch": false,
        "category": "General purpose",
        "gpuNum": 0,
        "hideHardwareSpecs": false,
        "memoryGiB": 32,
        "name": "ml.m5.2xlarge",
        "vcpuNum": 8
      },
      {
        "_defaultOrder": 7,
        "_isFastLaunch": false,
        "category": "General purpose",
        "gpuNum": 0,
        "hideHardwareSpecs": false,
        "memoryGiB": 64,
        "name": "ml.m5.4xlarge",
        "vcpuNum": 16
      },
      {
        "_defaultOrder": 8,
        "_isFastLaunch": false,
        "category": "General purpose",
        "gpuNum": 0,
        "hideHardwareSpecs": false,
        "memoryGiB": 128,
        "name": "ml.m5.8xlarge",
        "vcpuNum": 32
      },
      {
        "_defaultOrder": 9,
        "_isFastLaunch": false,
        "category": "General purpose",
        "gpuNum": 0,
        "hideHardwareSpecs": false,
        "memoryGiB": 192,
        "name": "ml.m5.12xlarge",
        "vcpuNum": 48
      },
      {
        "_defaultOrder": 10,
        "_isFastLaunch": false,
        "category": "General purpose",
        "gpuNum": 0,
        "hideHardwareSpecs": false,
        "memoryGiB": 256,
        "name": "ml.m5.16xlarge",
        "vcpuNum": 64
      },
      {
        "_defaultOrder": 11,
        "_isFastLaunch": false,
        "category": "General purpose",
        "gpuNum": 0,
        "hideHardwareSpecs": false,
        "memoryGiB": 384,
        "name": "ml.m5.24xlarge",
        "vcpuNum": 96
      },
      {
        "_defaultOrder": 12,
        "_isFastLaunch": false,
        "category": "General purpose",
        "gpuNum": 0,
        "hideHardwareSpecs": false,
        "memoryGiB": 8,
        "name": "ml.m5d.large",
        "vcpuNum": 2
      },
      {
        "_defaultOrder": 13,
        "_isFastLaunch": false,
        "category": "General purpose",
        "gpuNum": 0,
        "hideHardwareSpecs": false,
        "memoryGiB": 16,
        "name": "ml.m5d.xlarge",
        "vcpuNum": 4
      },
      {
        "_defaultOrder": 14,
        "_isFastLaunch": false,
        "category": "General purpose",
        "gpuNum": 0,
        "hideHardwareSpecs": false,
        "memoryGiB": 32,
        "name": "ml.m5d.2xlarge",
        "vcpuNum": 8
      },
      {
        "_defaultOrder": 15,
        "_isFastLaunch": false,
        "category": "General purpose",
        "gpuNum": 0,
        "hideHardwareSpecs": false,
        "memoryGiB": 64,
        "name": "ml.m5d.4xlarge",
        "vcpuNum": 16
      },
      {
        "_defaultOrder": 16,
        "_isFastLaunch": false,
        "category": "General purpose",
        "gpuNum": 0,
        "hideHardwareSpecs": false,
        "memoryGiB": 128,
        "name": "ml.m5d.8xlarge",
        "vcpuNum": 32
      },
      {
        "_defaultOrder": 17,
        "_isFastLaunch": false,
        "category": "General purpose",
        "gpuNum": 0,
        "hideHardwareSpecs": false,
        "memoryGiB": 192,
        "name": "ml.m5d.12xlarge",
        "vcpuNum": 48
      },
      {
        "_defaultOrder": 18,
        "_isFastLaunch": false,
        "category": "General purpose",
        "gpuNum": 0,
        "hideHardwareSpecs": false,
        "memoryGiB": 256,
        "name": "ml.m5d.16xlarge",
        "vcpuNum": 64
      },
      {
        "_defaultOrder": 19,
        "_isFastLaunch": false,
        "category": "General purpose",
        "gpuNum": 0,
        "hideHardwareSpecs": false,
        "memoryGiB": 384,
        "name": "ml.m5d.24xlarge",
        "vcpuNum": 96
      },
      {
        "_defaultOrder": 20,
        "_isFastLaunch": false,
        "category": "General purpose",
        "gpuNum": 0,
        "hideHardwareSpecs": true,
        "memoryGiB": 0,
        "name": "ml.geospatial.interactive",
        "supportedImageNames": [
          "sagemaker-geospatial-v1-0"
        ],
        "vcpuNum": 0
      },
      {
        "_defaultOrder": 21,
        "_isFastLaunch": true,
        "category": "Compute optimized",
        "gpuNum": 0,
        "hideHardwareSpecs": false,
        "memoryGiB": 4,
        "name": "ml.c5.large",
        "vcpuNum": 2
      },
      {
        "_defaultOrder": 22,
        "_isFastLaunch": false,
        "category": "Compute optimized",
        "gpuNum": 0,
        "hideHardwareSpecs": false,
        "memoryGiB": 8,
        "name": "ml.c5.xlarge",
        "vcpuNum": 4
      },
      {
        "_defaultOrder": 23,
        "_isFastLaunch": false,
        "category": "Compute optimized",
        "gpuNum": 0,
        "hideHardwareSpecs": false,
        "memoryGiB": 16,
        "name": "ml.c5.2xlarge",
        "vcpuNum": 8
      },
      {
        "_defaultOrder": 24,
        "_isFastLaunch": false,
        "category": "Compute optimized",
        "gpuNum": 0,
        "hideHardwareSpecs": false,
        "memoryGiB": 32,
        "name": "ml.c5.4xlarge",
        "vcpuNum": 16
      },
      {
        "_defaultOrder": 25,
        "_isFastLaunch": false,
        "category": "Compute optimized",
        "gpuNum": 0,
        "hideHardwareSpecs": false,
        "memoryGiB": 72,
        "name": "ml.c5.9xlarge",
        "vcpuNum": 36
      },
      {
        "_defaultOrder": 26,
        "_isFastLaunch": false,
        "category": "Compute optimized",
        "gpuNum": 0,
        "hideHardwareSpecs": false,
        "memoryGiB": 96,
        "name": "ml.c5.12xlarge",
        "vcpuNum": 48
      },
      {
        "_defaultOrder": 27,
        "_isFastLaunch": false,
        "category": "Compute optimized",
        "gpuNum": 0,
        "hideHardwareSpecs": false,
        "memoryGiB": 144,
        "name": "ml.c5.18xlarge",
        "vcpuNum": 72
      },
      {
        "_defaultOrder": 28,
        "_isFastLaunch": false,
        "category": "Compute optimized",
        "gpuNum": 0,
        "hideHardwareSpecs": false,
        "memoryGiB": 192,
        "name": "ml.c5.24xlarge",
        "vcpuNum": 96
      },
      {
        "_defaultOrder": 29,
        "_isFastLaunch": true,
        "category": "Accelerated computing",
        "gpuNum": 1,
        "hideHardwareSpecs": false,
        "memoryGiB": 16,
        "name": "ml.g4dn.xlarge",
        "vcpuNum": 4
      },
      {
        "_defaultOrder": 30,
        "_isFastLaunch": false,
        "category": "Accelerated computing",
        "gpuNum": 1,
        "hideHardwareSpecs": false,
        "memoryGiB": 32,
        "name": "ml.g4dn.2xlarge",
        "vcpuNum": 8
      },
      {
        "_defaultOrder": 31,
        "_isFastLaunch": false,
        "category": "Accelerated computing",
        "gpuNum": 1,
        "hideHardwareSpecs": false,
        "memoryGiB": 64,
        "name": "ml.g4dn.4xlarge",
        "vcpuNum": 16
      },
      {
        "_defaultOrder": 32,
        "_isFastLaunch": false,
        "category": "Accelerated computing",
        "gpuNum": 1,
        "hideHardwareSpecs": false,
        "memoryGiB": 128,
        "name": "ml.g4dn.8xlarge",
        "vcpuNum": 32
      },
      {
        "_defaultOrder": 33,
        "_isFastLaunch": false,
        "category": "Accelerated computing",
        "gpuNum": 4,
        "hideHardwareSpecs": false,
        "memoryGiB": 192,
        "name": "ml.g4dn.12xlarge",
        "vcpuNum": 48
      },
      {
        "_defaultOrder": 34,
        "_isFastLaunch": false,
        "category": "Accelerated computing",
        "gpuNum": 1,
        "hideHardwareSpecs": false,
        "memoryGiB": 256,
        "name": "ml.g4dn.16xlarge",
        "vcpuNum": 64
      },
      {
        "_defaultOrder": 35,
        "_isFastLaunch": false,
        "category": "Accelerated computing",
        "gpuNum": 1,
        "hideHardwareSpecs": false,
        "memoryGiB": 61,
        "name": "ml.p3.2xlarge",
        "vcpuNum": 8
      },
      {
        "_defaultOrder": 36,
        "_isFastLaunch": false,
        "category": "Accelerated computing",
        "gpuNum": 4,
        "hideHardwareSpecs": false,
        "memoryGiB": 244,
        "name": "ml.p3.8xlarge",
        "vcpuNum": 32
      },
      {
        "_defaultOrder": 37,
        "_isFastLaunch": false,
        "category": "Accelerated computing",
        "gpuNum": 8,
        "hideHardwareSpecs": false,
        "memoryGiB": 488,
        "name": "ml.p3.16xlarge",
        "vcpuNum": 64
      },
      {
        "_defaultOrder": 38,
        "_isFastLaunch": false,
        "category": "Accelerated computing",
        "gpuNum": 8,
        "hideHardwareSpecs": false,
        "memoryGiB": 768,
        "name": "ml.p3dn.24xlarge",
        "vcpuNum": 96
      },
      {
        "_defaultOrder": 39,
        "_isFastLaunch": false,
        "category": "Memory Optimized",
        "gpuNum": 0,
        "hideHardwareSpecs": false,
        "memoryGiB": 16,
        "name": "ml.r5.large",
        "vcpuNum": 2
      },
      {
        "_defaultOrder": 40,
        "_isFastLaunch": false,
        "category": "Memory Optimized",
        "gpuNum": 0,
        "hideHardwareSpecs": false,
        "memoryGiB": 32,
        "name": "ml.r5.xlarge",
        "vcpuNum": 4
      },
      {
        "_defaultOrder": 41,
        "_isFastLaunch": false,
        "category": "Memory Optimized",
        "gpuNum": 0,
        "hideHardwareSpecs": false,
        "memoryGiB": 64,
        "name": "ml.r5.2xlarge",
        "vcpuNum": 8
      },
      {
        "_defaultOrder": 42,
        "_isFastLaunch": false,
        "category": "Memory Optimized",
        "gpuNum": 0,
        "hideHardwareSpecs": false,
        "memoryGiB": 128,
        "name": "ml.r5.4xlarge",
        "vcpuNum": 16
      },
      {
        "_defaultOrder": 43,
        "_isFastLaunch": false,
        "category": "Memory Optimized",
        "gpuNum": 0,
        "hideHardwareSpecs": false,
        "memoryGiB": 256,
        "name": "ml.r5.8xlarge",
        "vcpuNum": 32
      },
      {
        "_defaultOrder": 44,
        "_isFastLaunch": false,
        "category": "Memory Optimized",
        "gpuNum": 0,
        "hideHardwareSpecs": false,
        "memoryGiB": 384,
        "name": "ml.r5.12xlarge",
        "vcpuNum": 48
      },
      {
        "_defaultOrder": 45,
        "_isFastLaunch": false,
        "category": "Memory Optimized",
        "gpuNum": 0,
        "hideHardwareSpecs": false,
        "memoryGiB": 512,
        "name": "ml.r5.16xlarge",
        "vcpuNum": 64
      },
      {
        "_defaultOrder": 46,
        "_isFastLaunch": false,
        "category": "Memory Optimized",
        "gpuNum": 0,
        "hideHardwareSpecs": false,
        "memoryGiB": 768,
        "name": "ml.r5.24xlarge",
        "vcpuNum": 96
      },
      {
        "_defaultOrder": 47,
        "_isFastLaunch": false,
        "category": "Accelerated computing",
        "gpuNum": 1,
        "hideHardwareSpecs": false,
        "memoryGiB": 16,
        "name": "ml.g5.xlarge",
        "vcpuNum": 4
      },
      {
        "_defaultOrder": 48,
        "_isFastLaunch": false,
        "category": "Accelerated computing",
        "gpuNum": 1,
        "hideHardwareSpecs": false,
        "memoryGiB": 32,
        "name": "ml.g5.2xlarge",
        "vcpuNum": 8
      },
      {
        "_defaultOrder": 49,
        "_isFastLaunch": false,
        "category": "Accelerated computing",
        "gpuNum": 1,
        "hideHardwareSpecs": false,
        "memoryGiB": 64,
        "name": "ml.g5.4xlarge",
        "vcpuNum": 16
      },
      {
        "_defaultOrder": 50,
        "_isFastLaunch": false,
        "category": "Accelerated computing",
        "gpuNum": 1,
        "hideHardwareSpecs": false,
        "memoryGiB": 128,
        "name": "ml.g5.8xlarge",
        "vcpuNum": 32
      },
      {
        "_defaultOrder": 51,
        "_isFastLaunch": false,
        "category": "Accelerated computing",
        "gpuNum": 1,
        "hideHardwareSpecs": false,
        "memoryGiB": 256,
        "name": "ml.g5.16xlarge",
        "vcpuNum": 64
      },
      {
        "_defaultOrder": 52,
        "_isFastLaunch": false,
        "category": "Accelerated computing",
        "gpuNum": 4,
        "hideHardwareSpecs": false,
        "memoryGiB": 192,
        "name": "ml.g5.12xlarge",
        "vcpuNum": 48
      },
      {
        "_defaultOrder": 53,
        "_isFastLaunch": false,
        "category": "Accelerated computing",
        "gpuNum": 4,
        "hideHardwareSpecs": false,
        "memoryGiB": 384,
        "name": "ml.g5.24xlarge",
        "vcpuNum": 96
      },
      {
        "_defaultOrder": 54,
        "_isFastLaunch": false,
        "category": "Accelerated computing",
        "gpuNum": 8,
        "hideHardwareSpecs": false,
        "memoryGiB": 768,
        "name": "ml.g5.48xlarge",
        "vcpuNum": 192
      },
      {
        "_defaultOrder": 55,
        "_isFastLaunch": false,
        "category": "Accelerated computing",
        "gpuNum": 8,
        "hideHardwareSpecs": false,
        "memoryGiB": 1152,
        "name": "ml.p4d.24xlarge",
        "vcpuNum": 96
      },
      {
        "_defaultOrder": 56,
        "_isFastLaunch": false,
        "category": "Accelerated computing",
        "gpuNum": 8,
        "hideHardwareSpecs": false,
        "memoryGiB": 1152,
        "name": "ml.p4de.24xlarge",
        "vcpuNum": 96
      },
      {
        "_defaultOrder": 57,
        "_isFastLaunch": false,
        "category": "Accelerated computing",
        "gpuNum": 0,
        "hideHardwareSpecs": false,
        "memoryGiB": 32,
        "name": "ml.trn1.2xlarge",
        "vcpuNum": 8
      },
      {
        "_defaultOrder": 58,
        "_isFastLaunch": false,
        "category": "Accelerated computing",
        "gpuNum": 0,
        "hideHardwareSpecs": false,
        "memoryGiB": 512,
        "name": "ml.trn1.32xlarge",
        "vcpuNum": 128
      },
      {
        "_defaultOrder": 59,
        "_isFastLaunch": false,
        "category": "Accelerated computing",
        "gpuNum": 0,
        "hideHardwareSpecs": false,
        "memoryGiB": 512,
        "name": "ml.trn1n.32xlarge",
        "vcpuNum": 128
      }
    ],
    "instance_type": "ml.t3.medium",
    "kernelspec": {
      "display_name": "Python 3",
      "language": "python",
      "name": "python3"
    },
    "language_info": {
      "codemirror_mode": {
        "name": "ipython",
        "version": 3
      },
      "file_extension": ".py",
      "mimetype": "text/x-python",
      "name": "python",
      "nbconvert_exporter": "python",
      "pygments_lexer": "ipython3",
      "version": "3.10.8"
    },
    "toc-autonumbering": false,
    "colab": {
      "provenance": []
    }
  },
  "nbformat": 4,
  "nbformat_minor": 5
}